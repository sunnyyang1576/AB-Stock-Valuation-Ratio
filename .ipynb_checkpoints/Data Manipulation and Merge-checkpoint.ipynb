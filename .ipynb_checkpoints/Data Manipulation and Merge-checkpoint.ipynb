{
 "cells": [
  {
   "cell_type": "code",
   "execution_count": null,
   "metadata": {},
   "outputs": [],
   "source": []
  },
  {
   "cell_type": "code",
   "execution_count": 1,
   "metadata": {},
   "outputs": [],
   "source": [
    "import pandas as pd\n",
    "import numpy as np"
   ]
  },
  {
   "cell_type": "code",
   "execution_count": null,
   "metadata": {},
   "outputs": [],
   "source": []
  },
  {
   "cell_type": "code",
   "execution_count": 2,
   "metadata": {},
   "outputs": [],
   "source": [
    "a_price = pd.read_csv(\"data/price/a_stock_price.csv\")\n",
    "b_price = pd.read_csv(\"data/price/b_stock_price.csv\")"
   ]
  },
  {
   "cell_type": "code",
   "execution_count": 3,
   "metadata": {},
   "outputs": [],
   "source": [
    "a_price[\"Trddt\"] = pd.to_datetime(a_price[\"Trddt\"],format=\"%Y%m%d\")\n",
    "b_price[\"Trddt\"] = pd.to_datetime(b_price[\"Trddt\"],format=\"%Y%m%d\")"
   ]
  },
  {
   "cell_type": "code",
   "execution_count": 4,
   "metadata": {},
   "outputs": [],
   "source": [
    "shanghai_ab_list = pd.read_csv(\"data/ticker_list/shanghai_ab_list.csv\")\n",
    "shenzhen_ab_list = pd.read_csv(\"data/ticker_list/shenzhen_ab_list.csv\")"
   ]
  },
  {
   "cell_type": "code",
   "execution_count": 5,
   "metadata": {},
   "outputs": [],
   "source": [
    "ab_list = pd.concat([shanghai_ab_list,shenzhen_ab_list])\n",
    "\n",
    "unique_id_list = [\"id_\"+str(idx) for idx in range(0,ab_list.shape[0])]\n",
    "ab_list[\"unique_id\"] = unique_id_list"
   ]
  },
  {
   "cell_type": "code",
   "execution_count": null,
   "metadata": {},
   "outputs": [],
   "source": []
  },
  {
   "cell_type": "code",
   "execution_count": null,
   "metadata": {},
   "outputs": [],
   "source": []
  },
  {
   "cell_type": "markdown",
   "metadata": {},
   "source": [
    "### Create Price DataFrame"
   ]
  },
  {
   "cell_type": "code",
   "execution_count": null,
   "metadata": {},
   "outputs": [],
   "source": [
    "a_price_merge = a_price.merge(ab_list[[\"a_ticker\",\"unique_id\"]],left_on=[\"Stkcd\"],right_on=[\"a_ticker\"])\n",
    "b_price_merge = b_price.merge(ab_list[[\"b_ticker\",\"unique_id\"]],left_on=[\"Stkcd\"],right_on=[\"b_ticker\"])\n",
    "\n",
    "a_price_id = a_price_merge[[\"Trddt\",\"unique_id\",\"Clsprc\"]]\n",
    "b_price_id = b_price_merge[[\"Trddt\",\"unique_id\",\"Clsprc\"]]\n",
    "\n",
    "a_price_id.columns = [\"Trddt\",\"unique_id\",\"a_price\"]\n",
    "b_price_id.columns = [\"Trddt\",\"unique_id\",\"b_price\"]\n",
    "\n",
    "price_df = a_price_id.merge(b_price_id,on=[\"Trddt\",\"unique_id\"])"
   ]
  },
  {
   "cell_type": "code",
   "execution_count": null,
   "metadata": {},
   "outputs": [],
   "source": [
    "price_df.to_csv(\"ab_stock_cross_section_new.csv\")"
   ]
  },
  {
   "cell_type": "code",
   "execution_count": null,
   "metadata": {},
   "outputs": [],
   "source": []
  },
  {
   "cell_type": "markdown",
   "metadata": {},
   "source": [
    "### Create Asset Information"
   ]
  },
  {
   "cell_type": "code",
   "execution_count": null,
   "metadata": {},
   "outputs": [],
   "source": [
    "a_industry = a_price_merge[[\"unique_id\",\"Indcd\",\"Nindcd\",\"Nnindcd\"]].drop_duplicates()\n",
    "b_industry = b_price_merge[[\"unique_id\",\"Indcd\",\"Nindcd\",\"Nnindcd\"]].drop_duplicates()"
   ]
  },
  {
   "cell_type": "code",
   "execution_count": null,
   "metadata": {},
   "outputs": [],
   "source": [
    "a_industry.to_csv(\"data/unique_id_industry_info.csv\")"
   ]
  },
  {
   "cell_type": "code",
   "execution_count": null,
   "metadata": {},
   "outputs": [],
   "source": []
  },
  {
   "cell_type": "code",
   "execution_count": null,
   "metadata": {},
   "outputs": [],
   "source": []
  },
  {
   "cell_type": "markdown",
   "metadata": {},
   "source": [
    "### Create Fundamental Information"
   ]
  },
  {
   "cell_type": "code",
   "execution_count": null,
   "metadata": {},
   "outputs": [],
   "source": []
  },
  {
   "cell_type": "code",
   "execution_count": null,
   "metadata": {},
   "outputs": [],
   "source": [
    "income_df = pd.read_excel(\"data/CSMAR_income/FS_Comins.xlsx\")"
   ]
  },
  {
   "cell_type": "code",
   "execution_count": null,
   "metadata": {},
   "outputs": [],
   "source": [
    "asset_df = pd.read_excel(\"data/CSMAR_asset/FS_Combas.xlsx\")"
   ]
  },
  {
   "cell_type": "code",
   "execution_count": null,
   "metadata": {},
   "outputs": [],
   "source": [
    "income_df[\"Accper\"] = pd.to_datetime(income_df[\"Accper\"])\n",
    "asset_df[\"Accper\"] = pd.to_datetime(asset_df[\"Accper\"])"
   ]
  },
  {
   "cell_type": "code",
   "execution_count": null,
   "metadata": {},
   "outputs": [],
   "source": []
  },
  {
   "cell_type": "code",
   "execution_count": null,
   "metadata": {},
   "outputs": [],
   "source": [
    "income_df = income_df[income_df[\"Typrep\"]==\"A\"]\n",
    "asset_df = asset_df[asset_df[\"Typrep\"]==\"A\"]"
   ]
  },
  {
   "cell_type": "code",
   "execution_count": null,
   "metadata": {},
   "outputs": [],
   "source": [
    "asset_df = asset_df.merge(ab_list[[\"a_ticker\",\"unique_id\"]],left_on=[\"Stkcd\"],right_on=[\"a_ticker\"])"
   ]
  },
  {
   "cell_type": "code",
   "execution_count": null,
   "metadata": {},
   "outputs": [],
   "source": [
    "income_df = income_df.merge(ab_list[[\"a_ticker\",\"unique_id\"]],left_on=[\"Stkcd\"],right_on=[\"a_ticker\"])"
   ]
  },
  {
   "cell_type": "code",
   "execution_count": null,
   "metadata": {},
   "outputs": [],
   "source": []
  },
  {
   "cell_type": "code",
   "execution_count": null,
   "metadata": {},
   "outputs": [],
   "source": [
    "asset_df = asset_df[~(asset_df[\"unique_id\"].isna())]"
   ]
  },
  {
   "cell_type": "code",
   "execution_count": null,
   "metadata": {},
   "outputs": [],
   "source": [
    "income_df = income_df[~(income_df[\"unique_id\"].isna())]"
   ]
  },
  {
   "cell_type": "code",
   "execution_count": null,
   "metadata": {},
   "outputs": [],
   "source": []
  },
  {
   "cell_type": "code",
   "execution_count": null,
   "metadata": {},
   "outputs": [],
   "source": [
    "asset_df.to_csv(\"data/asset_df.csv\")"
   ]
  },
  {
   "cell_type": "code",
   "execution_count": null,
   "metadata": {},
   "outputs": [],
   "source": [
    "income_df.to_csv(\"data/income_df.csv\")"
   ]
  },
  {
   "cell_type": "code",
   "execution_count": null,
   "metadata": {},
   "outputs": [],
   "source": []
  },
  {
   "cell_type": "code",
   "execution_count": null,
   "metadata": {},
   "outputs": [],
   "source": []
  },
  {
   "cell_type": "code",
   "execution_count": 6,
   "metadata": {},
   "outputs": [],
   "source": [
    "share_df = pd.read_excel(\"data/CSMAR_shares/TRD_Capchg.xlsx\")"
   ]
  },
  {
   "cell_type": "code",
   "execution_count": null,
   "metadata": {},
   "outputs": [],
   "source": []
  },
  {
   "cell_type": "code",
   "execution_count": null,
   "metadata": {},
   "outputs": [],
   "source": []
  },
  {
   "cell_type": "code",
   "execution_count": null,
   "metadata": {},
   "outputs": [],
   "source": []
  },
  {
   "cell_type": "code",
   "execution_count": 7,
   "metadata": {},
   "outputs": [],
   "source": [
    "share_df[\"股本变动日期\"] = pd.to_datetime(share_df[\"股本变动日期\"])"
   ]
  },
  {
   "cell_type": "code",
   "execution_count": 8,
   "metadata": {},
   "outputs": [],
   "source": [
    "share_df.columns = [\"Stkcd\",\"Trddt\",\"股本变动类型\",\"A股流通股数\"]"
   ]
  },
  {
   "cell_type": "code",
   "execution_count": 9,
   "metadata": {},
   "outputs": [],
   "source": [
    "merge_df = a_price.merge(share_df,on=[\"Stkcd\",\"Trddt\"],how=\"left\")"
   ]
  },
  {
   "cell_type": "code",
   "execution_count": 10,
   "metadata": {},
   "outputs": [],
   "source": [
    "share_df = merge_df[[\"Stkcd\",\"Trddt\",\"A股流通股数\",\"Clsprc\"]]"
   ]
  },
  {
   "cell_type": "code",
   "execution_count": 11,
   "metadata": {},
   "outputs": [],
   "source": [
    "share_df = share_df.set_index(\"Trddt\")"
   ]
  },
  {
   "cell_type": "code",
   "execution_count": 12,
   "metadata": {},
   "outputs": [],
   "source": [
    "share_df = share_df[[\"Stkcd\",\"A股流通股数\"]]"
   ]
  },
  {
   "cell_type": "code",
   "execution_count": null,
   "metadata": {},
   "outputs": [],
   "source": []
  },
  {
   "cell_type": "code",
   "execution_count": 13,
   "metadata": {},
   "outputs": [],
   "source": [
    "def fillna(x):\n",
    "    \n",
    "    return x[\"A股流通股数\"].fillna(method=\"ffill\")"
   ]
  },
  {
   "cell_type": "code",
   "execution_count": 14,
   "metadata": {},
   "outputs": [],
   "source": [
    "share_df = share_df.groupby(\"Stkcd\").apply(fillna)"
   ]
  },
  {
   "cell_type": "code",
   "execution_count": null,
   "metadata": {},
   "outputs": [],
   "source": []
  },
  {
   "cell_type": "code",
   "execution_count": 15,
   "metadata": {},
   "outputs": [
    {
     "data": {
      "text/plain": [
       "Stkcd   Trddt     \n",
       "2       2000-01-04            NaN\n",
       "        2000-01-05            NaN\n",
       "        2000-01-06            NaN\n",
       "        2000-01-07            NaN\n",
       "        2000-01-10    398711877.0\n",
       "                         ...     \n",
       "900957  2019-12-25            0.0\n",
       "        2019-12-26            0.0\n",
       "        2019-12-27            0.0\n",
       "        2019-12-30            0.0\n",
       "        2019-12-31            0.0\n",
       "Name: A股流通股数, Length: 432886, dtype: float64"
      ]
     },
     "execution_count": 15,
     "metadata": {},
     "output_type": "execute_result"
    }
   ],
   "source": [
    "share_df"
   ]
  },
  {
   "cell_type": "code",
   "execution_count": null,
   "metadata": {},
   "outputs": [],
   "source": []
  },
  {
   "cell_type": "code",
   "execution_count": 16,
   "metadata": {},
   "outputs": [],
   "source": [
    "a_price_df = a_price[[\"Stkcd\",\"Trddt\",\"Clsprc\"]]"
   ]
  },
  {
   "cell_type": "code",
   "execution_count": 17,
   "metadata": {},
   "outputs": [],
   "source": [
    "a_price_df = a_price_df.set_index([\"Stkcd\",\"Trddt\"])"
   ]
  },
  {
   "cell_type": "code",
   "execution_count": null,
   "metadata": {},
   "outputs": [],
   "source": []
  },
  {
   "cell_type": "code",
   "execution_count": 18,
   "metadata": {},
   "outputs": [],
   "source": [
    "market_cap_df = pd.concat([a_price_df,share_df],axis=1)"
   ]
  },
  {
   "cell_type": "code",
   "execution_count": 19,
   "metadata": {},
   "outputs": [],
   "source": [
    "market_cap_df[\"market_cap\"] = market_cap_df[\"Clsprc\"] * market_cap_df[\"A股流通股数\"]"
   ]
  },
  {
   "cell_type": "code",
   "execution_count": null,
   "metadata": {},
   "outputs": [],
   "source": []
  },
  {
   "cell_type": "code",
   "execution_count": 22,
   "metadata": {},
   "outputs": [],
   "source": [
    "index_df = market_cap_df.index.to_frame()"
   ]
  },
  {
   "cell_type": "code",
   "execution_count": 25,
   "metadata": {},
   "outputs": [],
   "source": [
    "index_df[\"market_cap\"] = market_cap_df[\"market_cap\"]"
   ]
  },
  {
   "cell_type": "code",
   "execution_count": 27,
   "metadata": {},
   "outputs": [],
   "source": [
    "index_df.index = range(0,index_df.shape[0])"
   ]
  },
  {
   "cell_type": "code",
   "execution_count": 37,
   "metadata": {},
   "outputs": [],
   "source": [
    "merge_df = index_df.merge(ab_list[[\"a_ticker\",\"unique_id\"]],left_on=\"Stkcd\",right_on=\"a_ticker\",how=\"right\")"
   ]
  },
  {
   "cell_type": "code",
   "execution_count": 38,
   "metadata": {},
   "outputs": [],
   "source": [
    "market_cap_df = merge_df[[\"Trddt\",\"unique_id\",\"market_cap\"]]"
   ]
  },
  {
   "cell_type": "code",
   "execution_count": 40,
   "metadata": {},
   "outputs": [
    {
     "data": {
      "text/html": [
       "<div>\n",
       "<style scoped>\n",
       "    .dataframe tbody tr th:only-of-type {\n",
       "        vertical-align: middle;\n",
       "    }\n",
       "\n",
       "    .dataframe tbody tr th {\n",
       "        vertical-align: top;\n",
       "    }\n",
       "\n",
       "    .dataframe thead th {\n",
       "        text-align: right;\n",
       "    }\n",
       "</style>\n",
       "<table border=\"1\" class=\"dataframe\">\n",
       "  <thead>\n",
       "    <tr style=\"text-align: right;\">\n",
       "      <th></th>\n",
       "      <th>Trddt</th>\n",
       "      <th>unique_id</th>\n",
       "      <th>market_cap</th>\n",
       "    </tr>\n",
       "  </thead>\n",
       "  <tbody>\n",
       "    <tr>\n",
       "      <th>0</th>\n",
       "      <td>2000-01-04</td>\n",
       "      <td>id_0</td>\n",
       "      <td>NaN</td>\n",
       "    </tr>\n",
       "    <tr>\n",
       "      <th>1</th>\n",
       "      <td>2000-01-05</td>\n",
       "      <td>id_0</td>\n",
       "      <td>NaN</td>\n",
       "    </tr>\n",
       "    <tr>\n",
       "      <th>2</th>\n",
       "      <td>2000-01-06</td>\n",
       "      <td>id_0</td>\n",
       "      <td>NaN</td>\n",
       "    </tr>\n",
       "    <tr>\n",
       "      <th>3</th>\n",
       "      <td>2000-01-07</td>\n",
       "      <td>id_0</td>\n",
       "      <td>NaN</td>\n",
       "    </tr>\n",
       "    <tr>\n",
       "      <th>4</th>\n",
       "      <td>2000-01-10</td>\n",
       "      <td>id_0</td>\n",
       "      <td>NaN</td>\n",
       "    </tr>\n",
       "    <tr>\n",
       "      <th>...</th>\n",
       "      <td>...</td>\n",
       "      <td>...</td>\n",
       "      <td>...</td>\n",
       "    </tr>\n",
       "    <tr>\n",
       "      <th>386882</th>\n",
       "      <td>2019-12-25</td>\n",
       "      <td>id_85</td>\n",
       "      <td>7.753837e+09</td>\n",
       "    </tr>\n",
       "    <tr>\n",
       "      <th>386883</th>\n",
       "      <td>2019-12-26</td>\n",
       "      <td>id_85</td>\n",
       "      <td>7.767783e+09</td>\n",
       "    </tr>\n",
       "    <tr>\n",
       "      <th>386884</th>\n",
       "      <td>2019-12-27</td>\n",
       "      <td>id_85</td>\n",
       "      <td>7.749188e+09</td>\n",
       "    </tr>\n",
       "    <tr>\n",
       "      <th>386885</th>\n",
       "      <td>2019-12-30</td>\n",
       "      <td>id_85</td>\n",
       "      <td>7.832863e+09</td>\n",
       "    </tr>\n",
       "    <tr>\n",
       "      <th>386886</th>\n",
       "      <td>2019-12-31</td>\n",
       "      <td>id_85</td>\n",
       "      <td>7.976969e+09</td>\n",
       "    </tr>\n",
       "  </tbody>\n",
       "</table>\n",
       "<p>386887 rows × 3 columns</p>\n",
       "</div>"
      ],
      "text/plain": [
       "            Trddt unique_id    market_cap\n",
       "0      2000-01-04      id_0           NaN\n",
       "1      2000-01-05      id_0           NaN\n",
       "2      2000-01-06      id_0           NaN\n",
       "3      2000-01-07      id_0           NaN\n",
       "4      2000-01-10      id_0           NaN\n",
       "...           ...       ...           ...\n",
       "386882 2019-12-25     id_85  7.753837e+09\n",
       "386883 2019-12-26     id_85  7.767783e+09\n",
       "386884 2019-12-27     id_85  7.749188e+09\n",
       "386885 2019-12-30     id_85  7.832863e+09\n",
       "386886 2019-12-31     id_85  7.976969e+09\n",
       "\n",
       "[386887 rows x 3 columns]"
      ]
     },
     "execution_count": 40,
     "metadata": {},
     "output_type": "execute_result"
    }
   ],
   "source": [
    "market_cap_df"
   ]
  },
  {
   "cell_type": "code",
   "execution_count": null,
   "metadata": {},
   "outputs": [],
   "source": []
  },
  {
   "cell_type": "code",
   "execution_count": 42,
   "metadata": {},
   "outputs": [],
   "source": [
    "market_cap_df.to_csv(\"market_cap_df.csv\")"
   ]
  },
  {
   "cell_type": "code",
   "execution_count": null,
   "metadata": {},
   "outputs": [],
   "source": []
  },
  {
   "cell_type": "code",
   "execution_count": null,
   "metadata": {},
   "outputs": [],
   "source": []
  },
  {
   "cell_type": "code",
   "execution_count": null,
   "metadata": {},
   "outputs": [],
   "source": []
  },
  {
   "cell_type": "code",
   "execution_count": null,
   "metadata": {},
   "outputs": [],
   "source": []
  }
 ],
 "metadata": {
  "kernelspec": {
   "display_name": "Python 3",
   "language": "python",
   "name": "python3"
  },
  "language_info": {
   "codemirror_mode": {
    "name": "ipython",
    "version": 3
   },
   "file_extension": ".py",
   "mimetype": "text/x-python",
   "name": "python",
   "nbconvert_exporter": "python",
   "pygments_lexer": "ipython3",
   "version": "3.8.5"
  }
 },
 "nbformat": 4,
 "nbformat_minor": 4
}
