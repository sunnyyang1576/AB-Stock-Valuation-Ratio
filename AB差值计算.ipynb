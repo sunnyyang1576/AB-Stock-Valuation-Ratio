{
 "cells": [
  {
   "cell_type": "code",
   "execution_count": null,
   "metadata": {},
   "outputs": [],
   "source": []
  },
  {
   "cell_type": "code",
   "execution_count": null,
   "metadata": {},
   "outputs": [],
   "source": []
  },
  {
   "cell_type": "code",
   "execution_count": 1,
   "metadata": {},
   "outputs": [],
   "source": [
    "import pandas as pd\n",
    "import numpy as np\n",
    "from load_in_data import load_data"
   ]
  },
  {
   "cell_type": "code",
   "execution_count": null,
   "metadata": {},
   "outputs": [],
   "source": []
  },
  {
   "cell_type": "code",
   "execution_count": 2,
   "metadata": {},
   "outputs": [],
   "source": [
    "def ab_merge(a_df,b_df,colname):\n",
    "    \n",
    "    sub_a = a_df.loc[:,[\"unique_id\",\"Trddt\",colname]]\n",
    "    sub_b = b_df.loc[:,[\"unique_id\",\"Trddt\",colname]]\n",
    "    \n",
    "    sub_a.columns = [\"unique_id\",\"Trddt\",\"a\"+colname]\n",
    "    sub_b.columns = [\"unique_id\",\"Trddt\",\"b\"+colname]\n",
    "    \n",
    "    ab_merge = sub_a.merge(sub_b,on=[\"unique_id\",\"Trddt\"])\n",
    "    \n",
    "    return ab_merge"
   ]
  },
  {
   "cell_type": "code",
   "execution_count": null,
   "metadata": {},
   "outputs": [],
   "source": []
  },
  {
   "cell_type": "code",
   "execution_count": 3,
   "metadata": {},
   "outputs": [
    {
     "name": "stderr",
     "output_type": "stream",
     "text": [
      "/Users/sunnyyang/Desktop/项目/AB股差值指数/load_in_data.py:68: SettingWithCopyWarning: \n",
      "A value is trying to be set on a copy of a slice from a DataFrame\n",
      "\n",
      "See the caveats in the documentation: https://pandas.pydata.org/pandas-docs/stable/user_guide/indexing.html#returning-a-view-versus-a-copy\n",
      "  a_price_df[\"unique_id\"][a_price_df.Stkcd == a] = unique_id\n",
      "/Users/sunnyyang/Desktop/项目/AB股差值指数/load_in_data.py:77: SettingWithCopyWarning: \n",
      "A value is trying to be set on a copy of a slice from a DataFrame\n",
      "\n",
      "See the caveats in the documentation: https://pandas.pydata.org/pandas-docs/stable/user_guide/indexing.html#returning-a-view-versus-a-copy\n",
      "  b_price_df[\"unique_id\"][b_price_df.Stkcd == str(b)] = unique_id\n"
     ]
    }
   ],
   "source": [
    "a,b = load_data()"
   ]
  },
  {
   "cell_type": "code",
   "execution_count": null,
   "metadata": {},
   "outputs": [],
   "source": []
  },
  {
   "cell_type": "code",
   "execution_count": 5,
   "metadata": {},
   "outputs": [],
   "source": [
    "drop_list = [\"900950\",\"900951\",\"900953\",\"900956\",\"900957\",\"900948\",\"900935\",\"900939\",\"900929\"]"
   ]
  },
  {
   "cell_type": "code",
   "execution_count": 6,
   "metadata": {},
   "outputs": [],
   "source": [
    "indicator = [idx not in drop_list for idx in a.Stkcd]\n",
    "a = a[indicator]\n",
    "\n",
    "indicator = [idx not in drop_list for idx in b.Stkcd]\n",
    "b = b[indicator]"
   ]
  },
  {
   "cell_type": "code",
   "execution_count": null,
   "metadata": {},
   "outputs": [],
   "source": []
  },
  {
   "cell_type": "code",
   "execution_count": null,
   "metadata": {},
   "outputs": [],
   "source": []
  },
  {
   "cell_type": "code",
   "execution_count": null,
   "metadata": {},
   "outputs": [],
   "source": []
  },
  {
   "cell_type": "code",
   "execution_count": 10,
   "metadata": {},
   "outputs": [
    {
     "data": {
      "text/html": [
       "<div>\n",
       "<style scoped>\n",
       "    .dataframe tbody tr th:only-of-type {\n",
       "        vertical-align: middle;\n",
       "    }\n",
       "\n",
       "    .dataframe tbody tr th {\n",
       "        vertical-align: top;\n",
       "    }\n",
       "\n",
       "    .dataframe thead th {\n",
       "        text-align: right;\n",
       "    }\n",
       "</style>\n",
       "<table border=\"1\" class=\"dataframe\">\n",
       "  <thead>\n",
       "    <tr style=\"text-align: right;\">\n",
       "      <th></th>\n",
       "      <th>unique_id</th>\n",
       "      <th>Trddt</th>\n",
       "      <th>aClsprc</th>\n",
       "      <th>bClsprc</th>\n",
       "    </tr>\n",
       "  </thead>\n",
       "  <tbody>\n",
       "    <tr>\n",
       "      <th>0</th>\n",
       "      <td>id_51</td>\n",
       "      <td>2000-01-04</td>\n",
       "      <td>10.30</td>\n",
       "      <td>3.160</td>\n",
       "    </tr>\n",
       "    <tr>\n",
       "      <th>1</th>\n",
       "      <td>id_51</td>\n",
       "      <td>2000-01-05</td>\n",
       "      <td>10.04</td>\n",
       "      <td>2.990</td>\n",
       "    </tr>\n",
       "    <tr>\n",
       "      <th>2</th>\n",
       "      <td>id_51</td>\n",
       "      <td>2000-01-06</td>\n",
       "      <td>10.51</td>\n",
       "      <td>3.200</td>\n",
       "    </tr>\n",
       "    <tr>\n",
       "      <th>3</th>\n",
       "      <td>id_51</td>\n",
       "      <td>2000-01-07</td>\n",
       "      <td>10.99</td>\n",
       "      <td>3.430</td>\n",
       "    </tr>\n",
       "    <tr>\n",
       "      <th>4</th>\n",
       "      <td>id_51</td>\n",
       "      <td>2000-01-10</td>\n",
       "      <td>11.44</td>\n",
       "      <td>3.580</td>\n",
       "    </tr>\n",
       "    <tr>\n",
       "      <th>...</th>\n",
       "      <td>...</td>\n",
       "      <td>...</td>\n",
       "      <td>...</td>\n",
       "      <td>...</td>\n",
       "    </tr>\n",
       "    <tr>\n",
       "      <th>386825</th>\n",
       "      <td>id_40</td>\n",
       "      <td>2019-12-25</td>\n",
       "      <td>7.73</td>\n",
       "      <td>0.398</td>\n",
       "    </tr>\n",
       "    <tr>\n",
       "      <th>386826</th>\n",
       "      <td>id_40</td>\n",
       "      <td>2019-12-26</td>\n",
       "      <td>7.68</td>\n",
       "      <td>0.400</td>\n",
       "    </tr>\n",
       "    <tr>\n",
       "      <th>386827</th>\n",
       "      <td>id_40</td>\n",
       "      <td>2019-12-27</td>\n",
       "      <td>7.59</td>\n",
       "      <td>0.400</td>\n",
       "    </tr>\n",
       "    <tr>\n",
       "      <th>386828</th>\n",
       "      <td>id_40</td>\n",
       "      <td>2019-12-30</td>\n",
       "      <td>7.74</td>\n",
       "      <td>0.397</td>\n",
       "    </tr>\n",
       "    <tr>\n",
       "      <th>386829</th>\n",
       "      <td>id_40</td>\n",
       "      <td>2019-12-31</td>\n",
       "      <td>8.04</td>\n",
       "      <td>0.401</td>\n",
       "    </tr>\n",
       "  </tbody>\n",
       "</table>\n",
       "<p>386830 rows × 4 columns</p>\n",
       "</div>"
      ],
      "text/plain": [
       "       unique_id      Trddt  aClsprc  bClsprc\n",
       "0          id_51 2000-01-04    10.30    3.160\n",
       "1          id_51 2000-01-05    10.04    2.990\n",
       "2          id_51 2000-01-06    10.51    3.200\n",
       "3          id_51 2000-01-07    10.99    3.430\n",
       "4          id_51 2000-01-10    11.44    3.580\n",
       "...          ...        ...      ...      ...\n",
       "386825     id_40 2019-12-25     7.73    0.398\n",
       "386826     id_40 2019-12-26     7.68    0.400\n",
       "386827     id_40 2019-12-27     7.59    0.400\n",
       "386828     id_40 2019-12-30     7.74    0.397\n",
       "386829     id_40 2019-12-31     8.04    0.401\n",
       "\n",
       "[386830 rows x 4 columns]"
      ]
     },
     "execution_count": 10,
     "metadata": {},
     "output_type": "execute_result"
    }
   ],
   "source": [
    "price_ab_merge"
   ]
  },
  {
   "cell_type": "code",
   "execution_count": 11,
   "metadata": {},
   "outputs": [],
   "source": [
    "price_ab_merge = ab_merge(a,b,\"Clsprc\")"
   ]
  },
  {
   "cell_type": "code",
   "execution_count": 12,
   "metadata": {},
   "outputs": [],
   "source": [
    "price_ab_merge[\"ratio\"] = price_ab_merge.aClsprc/price_ab_merge.bClsprc"
   ]
  },
  {
   "cell_type": "code",
   "execution_count": 16,
   "metadata": {},
   "outputs": [
    {
     "data": {
      "text/html": [
       "<div>\n",
       "<style scoped>\n",
       "    .dataframe tbody tr th:only-of-type {\n",
       "        vertical-align: middle;\n",
       "    }\n",
       "\n",
       "    .dataframe tbody tr th {\n",
       "        vertical-align: top;\n",
       "    }\n",
       "\n",
       "    .dataframe thead th {\n",
       "        text-align: right;\n",
       "    }\n",
       "</style>\n",
       "<table border=\"1\" class=\"dataframe\">\n",
       "  <thead>\n",
       "    <tr style=\"text-align: right;\">\n",
       "      <th></th>\n",
       "      <th>Stkcd</th>\n",
       "      <th>Indcd</th>\n",
       "      <th>Nindcd</th>\n",
       "      <th>Nnindcd</th>\n",
       "      <th>Trddt</th>\n",
       "      <th>Clsprc</th>\n",
       "      <th>Dnshrtrd</th>\n",
       "      <th>Dretwd</th>\n",
       "      <th>unique_id</th>\n",
       "    </tr>\n",
       "  </thead>\n",
       "  <tbody>\n",
       "    <tr>\n",
       "      <th>0</th>\n",
       "      <td>000002</td>\n",
       "      <td>3</td>\n",
       "      <td>J</td>\n",
       "      <td>K70</td>\n",
       "      <td>2000-01-04</td>\n",
       "      <td>10.30</td>\n",
       "      <td>4574708</td>\n",
       "      <td>0.056410</td>\n",
       "      <td>id_51</td>\n",
       "    </tr>\n",
       "    <tr>\n",
       "      <th>1</th>\n",
       "      <td>000002</td>\n",
       "      <td>3</td>\n",
       "      <td>J</td>\n",
       "      <td>K70</td>\n",
       "      <td>2000-01-05</td>\n",
       "      <td>10.04</td>\n",
       "      <td>4613673</td>\n",
       "      <td>-0.025243</td>\n",
       "      <td>id_51</td>\n",
       "    </tr>\n",
       "    <tr>\n",
       "      <th>2</th>\n",
       "      <td>000002</td>\n",
       "      <td>3</td>\n",
       "      <td>J</td>\n",
       "      <td>K70</td>\n",
       "      <td>2000-01-06</td>\n",
       "      <td>10.51</td>\n",
       "      <td>7192031</td>\n",
       "      <td>0.046813</td>\n",
       "      <td>id_51</td>\n",
       "    </tr>\n",
       "    <tr>\n",
       "      <th>3</th>\n",
       "      <td>000002</td>\n",
       "      <td>3</td>\n",
       "      <td>J</td>\n",
       "      <td>K70</td>\n",
       "      <td>2000-01-07</td>\n",
       "      <td>10.99</td>\n",
       "      <td>13634936</td>\n",
       "      <td>0.045671</td>\n",
       "      <td>id_51</td>\n",
       "    </tr>\n",
       "    <tr>\n",
       "      <th>4</th>\n",
       "      <td>000002</td>\n",
       "      <td>3</td>\n",
       "      <td>J</td>\n",
       "      <td>K70</td>\n",
       "      <td>2000-01-10</td>\n",
       "      <td>11.44</td>\n",
       "      <td>14242486</td>\n",
       "      <td>0.117017</td>\n",
       "      <td>id_51</td>\n",
       "    </tr>\n",
       "    <tr>\n",
       "      <th>...</th>\n",
       "      <td>...</td>\n",
       "      <td>...</td>\n",
       "      <td>...</td>\n",
       "      <td>...</td>\n",
       "      <td>...</td>\n",
       "      <td>...</td>\n",
       "      <td>...</td>\n",
       "      <td>...</td>\n",
       "      <td>...</td>\n",
       "    </tr>\n",
       "    <tr>\n",
       "      <th>392210</th>\n",
       "      <td>600851</td>\n",
       "      <td>5</td>\n",
       "      <td>C81</td>\n",
       "      <td>C27</td>\n",
       "      <td>2019-12-25</td>\n",
       "      <td>7.73</td>\n",
       "      <td>1773097</td>\n",
       "      <td>-0.001292</td>\n",
       "      <td>id_40</td>\n",
       "    </tr>\n",
       "    <tr>\n",
       "      <th>392211</th>\n",
       "      <td>600851</td>\n",
       "      <td>5</td>\n",
       "      <td>C81</td>\n",
       "      <td>C27</td>\n",
       "      <td>2019-12-26</td>\n",
       "      <td>7.68</td>\n",
       "      <td>2014139</td>\n",
       "      <td>-0.006468</td>\n",
       "      <td>id_40</td>\n",
       "    </tr>\n",
       "    <tr>\n",
       "      <th>392212</th>\n",
       "      <td>600851</td>\n",
       "      <td>5</td>\n",
       "      <td>C81</td>\n",
       "      <td>C27</td>\n",
       "      <td>2019-12-27</td>\n",
       "      <td>7.59</td>\n",
       "      <td>2385319</td>\n",
       "      <td>-0.011719</td>\n",
       "      <td>id_40</td>\n",
       "    </tr>\n",
       "    <tr>\n",
       "      <th>392213</th>\n",
       "      <td>600851</td>\n",
       "      <td>5</td>\n",
       "      <td>C81</td>\n",
       "      <td>C27</td>\n",
       "      <td>2019-12-30</td>\n",
       "      <td>7.74</td>\n",
       "      <td>1956921</td>\n",
       "      <td>0.019763</td>\n",
       "      <td>id_40</td>\n",
       "    </tr>\n",
       "    <tr>\n",
       "      <th>392214</th>\n",
       "      <td>600851</td>\n",
       "      <td>5</td>\n",
       "      <td>C81</td>\n",
       "      <td>C27</td>\n",
       "      <td>2019-12-31</td>\n",
       "      <td>8.04</td>\n",
       "      <td>5200550</td>\n",
       "      <td>0.038760</td>\n",
       "      <td>id_40</td>\n",
       "    </tr>\n",
       "  </tbody>\n",
       "</table>\n",
       "<p>392215 rows × 9 columns</p>\n",
       "</div>"
      ],
      "text/plain": [
       "         Stkcd  Indcd Nindcd Nnindcd      Trddt  Clsprc  Dnshrtrd    Dretwd  \\\n",
       "0       000002      3      J     K70 2000-01-04   10.30   4574708  0.056410   \n",
       "1       000002      3      J     K70 2000-01-05   10.04   4613673 -0.025243   \n",
       "2       000002      3      J     K70 2000-01-06   10.51   7192031  0.046813   \n",
       "3       000002      3      J     K70 2000-01-07   10.99  13634936  0.045671   \n",
       "4       000002      3      J     K70 2000-01-10   11.44  14242486  0.117017   \n",
       "...        ...    ...    ...     ...        ...     ...       ...       ...   \n",
       "392210  600851      5    C81     C27 2019-12-25    7.73   1773097 -0.001292   \n",
       "392211  600851      5    C81     C27 2019-12-26    7.68   2014139 -0.006468   \n",
       "392212  600851      5    C81     C27 2019-12-27    7.59   2385319 -0.011719   \n",
       "392213  600851      5    C81     C27 2019-12-30    7.74   1956921  0.019763   \n",
       "392214  600851      5    C81     C27 2019-12-31    8.04   5200550  0.038760   \n",
       "\n",
       "       unique_id  \n",
       "0          id_51  \n",
       "1          id_51  \n",
       "2          id_51  \n",
       "3          id_51  \n",
       "4          id_51  \n",
       "...          ...  \n",
       "392210     id_40  \n",
       "392211     id_40  \n",
       "392212     id_40  \n",
       "392213     id_40  \n",
       "392214     id_40  \n",
       "\n",
       "[392215 rows x 9 columns]"
      ]
     },
     "execution_count": 16,
     "metadata": {},
     "output_type": "execute_result"
    }
   ],
   "source": [
    "a"
   ]
  },
  {
   "cell_type": "code",
   "execution_count": 23,
   "metadata": {},
   "outputs": [],
   "source": [
    "ret_df = ab_merge(a,b,\"Dretwd\")"
   ]
  },
  {
   "cell_type": "code",
   "execution_count": null,
   "metadata": {},
   "outputs": [],
   "source": []
  },
  {
   "cell_type": "code",
   "execution_count": null,
   "metadata": {},
   "outputs": [],
   "source": []
  },
  {
   "cell_type": "code",
   "execution_count": null,
   "metadata": {},
   "outputs": [],
   "source": []
  },
  {
   "cell_type": "code",
   "execution_count": null,
   "metadata": {},
   "outputs": [],
   "source": []
  },
  {
   "cell_type": "code",
   "execution_count": 25,
   "metadata": {},
   "outputs": [],
   "source": [
    "merge_df = price_ab_merge.merge(ret_df,on=[\"unique_id\",\"Trddt\"])"
   ]
  },
  {
   "cell_type": "code",
   "execution_count": 27,
   "metadata": {},
   "outputs": [],
   "source": [
    "merge_df.columns = [\"unique_id\",\"date\",\"a_price\",\"b_price\",\"ratio\",\"a_ret\",\"b_ret\"]"
   ]
  },
  {
   "cell_type": "code",
   "execution_count": 29,
   "metadata": {},
   "outputs": [],
   "source": [
    "merge_df.to_csv(\"ab_stock_cross_section.csv\")"
   ]
  },
  {
   "cell_type": "code",
   "execution_count": null,
   "metadata": {},
   "outputs": [],
   "source": []
  },
  {
   "cell_type": "code",
   "execution_count": null,
   "metadata": {},
   "outputs": [],
   "source": []
  },
  {
   "cell_type": "code",
   "execution_count": null,
   "metadata": {},
   "outputs": [],
   "source": []
  },
  {
   "cell_type": "code",
   "execution_count": 61,
   "metadata": {},
   "outputs": [],
   "source": [
    "import matplotlib.pyplot as plt"
   ]
  },
  {
   "cell_type": "code",
   "execution_count": null,
   "metadata": {},
   "outputs": [],
   "source": []
  },
  {
   "cell_type": "code",
   "execution_count": 62,
   "metadata": {},
   "outputs": [
    {
     "data": {
      "image/png": "[encoded data removed]",
      "text/plain": [
       "<Figure size 720x360 with 1 Axes>"
      ]
     },
     "metadata": {
      "needs_background": "light"
     },
     "output_type": "display_data"
    }
   ],
   "source": [
    "sub_df.iloc[:,2:4].plot(grid=True,figsize=(10,5))\n",
    "plt.savefig(\"id2_ab_price\")"
   ]
  },
  {
   "cell_type": "code",
   "execution_count": null,
   "metadata": {},
   "outputs": [],
   "source": []
  },
  {
   "cell_type": "code",
   "execution_count": null,
   "metadata": {},
   "outputs": [],
   "source": []
  },
  {
   "cell_type": "code",
   "execution_count": null,
   "metadata": {},
   "outputs": [],
   "source": []
  },
  {
   "cell_type": "code",
   "execution_count": null,
   "metadata": {},
   "outputs": [],
   "source": []
  },
  {
   "cell_type": "code",
   "execution_count": 145,
   "metadata": {},
   "outputs": [],
   "source": [
    "def year(x):\n",
    "    \n",
    "    return x.year\n",
    "\n",
    "def month(x):\n",
    "    \n",
    "    return x.month\n",
    "\n",
    "def day(x):\n",
    "    \n",
    "    return x.day"
   ]
  },
  {
   "cell_type": "code",
   "execution_count": null,
   "metadata": {},
   "outputs": [],
   "source": []
  },
  {
   "cell_type": "code",
   "execution_count": null,
   "metadata": {},
   "outputs": [],
   "source": []
  },
  {
   "cell_type": "code",
   "execution_count": 147,
   "metadata": {},
   "outputs": [],
   "source": [
    "price_ab_merge[\"year\"] = price_ab_merge.Trddt.apply(year)\n",
    "price_ab_merge[\"month\"] = price_ab_merge.Trddt.apply(month)\n",
    "price_ab_merge[\"day\"] = price_ab_merge.Trddt.apply(day)"
   ]
  },
  {
   "cell_type": "code",
   "execution_count": null,
   "metadata": {},
   "outputs": [],
   "source": []
  },
  {
   "cell_type": "code",
   "execution_count": 201,
   "metadata": {},
   "outputs": [],
   "source": [
    "ave_ratio = price_ab_merge.iloc[:,4:].groupby([\"year\",\"month\",\"day\"]).mean()"
   ]
  },
  {
   "cell_type": "code",
   "execution_count": 202,
   "metadata": {},
   "outputs": [],
   "source": [
    "date_list = []\n",
    "\n",
    "for index in ave_ratio.index:\n",
    "    \n",
    "    date = str(index[0])+\"-\"+str(index[1])+\"-\"+str(index[2])\n",
    "    date = pd.to_datetime(date)\n",
    "    \n",
    "    date_list.append(date)\n",
    "\n",
    "date_list = pd.Series(date_list)"
   ]
  },
  {
   "cell_type": "code",
   "execution_count": 203,
   "metadata": {},
   "outputs": [],
   "source": [
    "ave_ratio.index = date_list"
   ]
  },
  {
   "cell_type": "code",
   "execution_count": 204,
   "metadata": {},
   "outputs": [],
   "source": [
    "ab_mean_df = ave_ratio[ave_ratio.index>\"2002-01-01\"]"
   ]
  },
  {
   "cell_type": "code",
   "execution_count": null,
   "metadata": {},
   "outputs": [],
   "source": []
  },
  {
   "cell_type": "code",
   "execution_count": null,
   "metadata": {},
   "outputs": [],
   "source": []
  },
  {
   "cell_type": "code",
   "execution_count": null,
   "metadata": {},
   "outputs": [],
   "source": []
  },
  {
   "cell_type": "code",
   "execution_count": 205,
   "metadata": {},
   "outputs": [],
   "source": [
    "med_ratio = price_ab_merge.iloc[:,4:].groupby([\"year\",\"month\",\"day\"]).median()"
   ]
  },
  {
   "cell_type": "code",
   "execution_count": 206,
   "metadata": {},
   "outputs": [],
   "source": [
    "date_list = []\n",
    "\n",
    "for index in med_ratio.index:\n",
    "    \n",
    "    date = str(index[0])+\"-\"+str(index[1])+\"-\"+str(index[2])\n",
    "    date = pd.to_datetime(date)\n",
    "    \n",
    "    date_list.append(date)\n",
    "\n",
    "date_list = pd.Series(date_list)"
   ]
  },
  {
   "cell_type": "code",
   "execution_count": 207,
   "metadata": {},
   "outputs": [],
   "source": [
    "med_ratio.index = date_list"
   ]
  },
  {
   "cell_type": "code",
   "execution_count": 208,
   "metadata": {},
   "outputs": [],
   "source": [
    "ab_median_df = med_ratio[med_ratio.index>\"2002-01-01\"]"
   ]
  },
  {
   "cell_type": "code",
   "execution_count": null,
   "metadata": {},
   "outputs": [],
   "source": []
  },
  {
   "cell_type": "code",
   "execution_count": null,
   "metadata": {},
   "outputs": [],
   "source": []
  },
  {
   "cell_type": "code",
   "execution_count": 209,
   "metadata": {},
   "outputs": [],
   "source": [
    "std_ratio = price_ab_merge.iloc[:,4:].groupby([\"year\",\"month\",\"day\"]).std()"
   ]
  },
  {
   "cell_type": "code",
   "execution_count": 210,
   "metadata": {},
   "outputs": [],
   "source": [
    "date_list = []\n",
    "\n",
    "for index in std_ratio.index:\n",
    "    \n",
    "    date = str(index[0])+\"-\"+str(index[1])+\"-\"+str(index[2])\n",
    "    date = pd.to_datetime(date)\n",
    "    \n",
    "    date_list.append(date)\n",
    "\n",
    "date_list = pd.Series(date_list)"
   ]
  },
  {
   "cell_type": "code",
   "execution_count": 211,
   "metadata": {},
   "outputs": [],
   "source": [
    "std_ratio.index = date_list"
   ]
  },
  {
   "cell_type": "code",
   "execution_count": 212,
   "metadata": {},
   "outputs": [],
   "source": [
    "ab_std_df = std_ratio[std_ratio.index>\"2002-01-01\"]"
   ]
  },
  {
   "cell_type": "code",
   "execution_count": null,
   "metadata": {},
   "outputs": [],
   "source": []
  },
  {
   "cell_type": "code",
   "execution_count": 213,
   "metadata": {},
   "outputs": [],
   "source": [
    "ab_std_df.columns = [\"std\"]\n",
    "ab_median_df.columns = [\"med\"]\n",
    "ab_mean_df.columns = [\"mean\"]"
   ]
  },
  {
   "cell_type": "code",
   "execution_count": 217,
   "metadata": {},
   "outputs": [],
   "source": [
    "ab_deviation_df = pd.concat([ab_mean_df,ab_median_df,ab_std_df],axis=1)"
   ]
  },
  {
   "cell_type": "code",
   "execution_count": 218,
   "metadata": {},
   "outputs": [],
   "source": [
    "ab_deviation_df.to_csv(\"ab_deviation_ratio.csv\")"
   ]
  },
  {
   "cell_type": "code",
   "execution_count": null,
   "metadata": {},
   "outputs": [],
   "source": []
  },
  {
   "cell_type": "code",
   "execution_count": null,
   "metadata": {},
   "outputs": [],
   "source": []
  },
  {
   "cell_type": "code",
   "execution_count": null,
   "metadata": {},
   "outputs": [],
   "source": []
  },
  {
   "cell_type": "code",
   "execution_count": null,
   "metadata": {},
   "outputs": [],
   "source": []
  }
 ],
 "metadata": {
  "kernelspec": {
   "display_name": "Python 3",
   "language": "python",
   "name": "python3"
  },
  "language_info": {
   "codemirror_mode": {
    "name": "ipython",
    "version": 3
   },
   "file_extension": ".py",
   "mimetype": "text/x-python",
   "name": "python",
   "nbconvert_exporter": "python",
   "pygments_lexer": "ipython3",
   "version": "3.7.6"
  }
 },
 "nbformat": 4,
 "nbformat_minor": 4
}
