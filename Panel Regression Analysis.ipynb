{
 "cells": [
  {
   "cell_type": "code",
   "execution_count": null,
   "metadata": {},
   "outputs": [],
   "source": []
  },
  {
   "cell_type": "code",
   "execution_count": 2,
   "metadata": {},
   "outputs": [],
   "source": [
    "import pandas as pd\n",
    "import numpy as np\n",
    "from linearmodels import PanelOLS,RandomEffects,FamaMacBeth\n",
    "from scipy import stats\n",
    "import statsmodels.api as sm"
   ]
  },
  {
   "cell_type": "code",
   "execution_count": null,
   "metadata": {},
   "outputs": [],
   "source": []
  },
  {
   "cell_type": "code",
   "execution_count": 2,
   "metadata": {},
   "outputs": [],
   "source": [
    "def x_day_return(series,x):\n",
    "    \n",
    "    return series.pct_change(periods=x)"
   ]
  },
  {
   "cell_type": "code",
   "execution_count": null,
   "metadata": {},
   "outputs": [],
   "source": []
  },
  {
   "cell_type": "code",
   "execution_count": null,
   "metadata": {},
   "outputs": [],
   "source": []
  },
  {
   "cell_type": "markdown",
   "metadata": {},
   "source": [
    "### Import Data"
   ]
  },
  {
   "cell_type": "code",
   "execution_count": 17,
   "metadata": {},
   "outputs": [],
   "source": [
    "data_directory = \"data/\"\n",
    "file = \"ab_stock_cross_section.csv\""
   ]
  },
  {
   "cell_type": "code",
   "execution_count": null,
   "metadata": {},
   "outputs": [],
   "source": []
  },
  {
   "cell_type": "code",
   "execution_count": 18,
   "metadata": {},
   "outputs": [],
   "source": [
    "df = pd.read_csv(data_directory+file)\n",
    "df = df.iloc[:,1:]\n",
    "df[\"date\"] = pd.to_datetime(df[\"date\"])\n",
    "df = df.set_index(\"date\")"
   ]
  },
  {
   "cell_type": "code",
   "execution_count": null,
   "metadata": {},
   "outputs": [],
   "source": []
  },
  {
   "cell_type": "code",
   "execution_count": null,
   "metadata": {},
   "outputs": [],
   "source": []
  },
  {
   "cell_type": "markdown",
   "metadata": {},
   "source": [
    "Subset the data from 2002-01-01 in which the regime changes"
   ]
  },
  {
   "cell_type": "code",
   "execution_count": 22,
   "metadata": {},
   "outputs": [],
   "source": [
    "df = df[df.index>=\"2002-01-01\"]"
   ]
  },
  {
   "cell_type": "code",
   "execution_count": null,
   "metadata": {},
   "outputs": [],
   "source": []
  },
  {
   "cell_type": "code",
   "execution_count": null,
   "metadata": {},
   "outputs": [],
   "source": []
  },
  {
   "cell_type": "markdown",
   "metadata": {},
   "source": [
    "#### Daily Version Regression"
   ]
  },
  {
   "cell_type": "code",
   "execution_count": 25,
   "metadata": {},
   "outputs": [],
   "source": [
    "df_wide = df.pivot_table(values=\"a_price\",columns=\"unique_id\",index=\"date\")\n",
    "\n",
    "daily_return = df_wide.pct_change()\n",
    "\n",
    "daily_return_long = daily_return.stack()\n",
    "\n",
    "ratio_wide = df.pivot_table(values=\"ratio\",columns=\"unique_id\",index=\"date\")"
   ]
  },
  {
   "cell_type": "code",
   "execution_count": null,
   "metadata": {},
   "outputs": [],
   "source": []
  },
  {
   "cell_type": "code",
   "execution_count": 41,
   "metadata": {},
   "outputs": [],
   "source": [
    "ratio_wide = ratio_wide.shift(1)\n",
    "ratio_long = ratio_wide.stack()\n"
   ]
  },
  {
   "cell_type": "code",
   "execution_count": null,
   "metadata": {},
   "outputs": [],
   "source": []
  },
  {
   "cell_type": "code",
   "execution_count": 66,
   "metadata": {},
   "outputs": [],
   "source": [
    "merge_df = pd.concat([daily_return_long,ratio_long],axis=1)\n",
    "merge_df.columns = [\"ret\",\"ratio\"]"
   ]
  },
  {
   "cell_type": "code",
   "execution_count": null,
   "metadata": {},
   "outputs": [],
   "source": [
    "index_df = merge_df.index.to_frame()\n",
    "index_df[\"ret\"] = merge_df[\"ret\"]\n",
    "index_df[\"ratio\"] = merge_df[\"ratio\"]\n",
    "merge_df = index_df\n",
    "\n",
    "merge_df = merge_df.set_index([\"unique_id\",\"date\"])\n",
    "merge_df = merge_df.dropna()"
   ]
  },
  {
   "cell_type": "code",
   "execution_count": null,
   "metadata": {},
   "outputs": [],
   "source": []
  },
  {
   "cell_type": "code",
   "execution_count": null,
   "metadata": {},
   "outputs": [],
   "source": []
  },
  {
   "cell_type": "code",
   "execution_count": null,
   "metadata": {},
   "outputs": [],
   "source": []
  },
  {
   "cell_type": "code",
   "execution_count": 71,
   "metadata": {},
   "outputs": [],
   "source": [
    "exog_var = [\"ratio\"]\n",
    "depe_var = [\"ret\"]"
   ]
  },
  {
   "cell_type": "code",
   "execution_count": 84,
   "metadata": {},
   "outputs": [],
   "source": [
    "exog = merge_df[exog_var]\n",
    "depe = merge_df[depe_var]\n",
    "\n",
    "exog = sm.add_constant(exog)"
   ]
  },
  {
   "cell_type": "code",
   "execution_count": null,
   "metadata": {},
   "outputs": [],
   "source": []
  },
  {
   "cell_type": "code",
   "execution_count": 86,
   "metadata": {},
   "outputs": [],
   "source": [
    "mod = PanelOLS(depe,exog,entity_effects=True,time_effects=True)"
   ]
  },
  {
   "cell_type": "code",
   "execution_count": 87,
   "metadata": {},
   "outputs": [],
   "source": [
    "result = mod.fit(cov_type=\"clustered\",cluster_entity=True,cluster_time=True)"
   ]
  },
  {
   "cell_type": "code",
   "execution_count": 88,
   "metadata": {},
   "outputs": [
    {
     "data": {
      "text/html": [
       "<table class=\"simpletable\">\n",
       "<caption>PanelOLS Estimation Summary</caption>\n",
       "<tr>\n",
       "  <th>Dep. Variable:</th>           <td>ret</td>       <th>  R-squared:         </th>     <td>0.0004</td>   \n",
       "</tr>\n",
       "<tr>\n",
       "  <th>Estimator:</th>            <td>PanelOLS</td>     <th>  R-squared (Between):</th>    <td>-15.247</td>  \n",
       "</tr>\n",
       "<tr>\n",
       "  <th>No. Observations:</th>      <td>348328</td>      <th>  R-squared (Within):</th>     <td>0.0004</td>   \n",
       "</tr>\n",
       "<tr>\n",
       "  <th>Date:</th>             <td>Sun, Jan 10 2021</td> <th>  R-squared (Overall):</th>    <td>-0.0015</td>  \n",
       "</tr>\n",
       "<tr>\n",
       "  <th>Time:</th>                 <td>15:06:02</td>     <th>  Log-likelihood     </th>    <td>8.136e+05</td> \n",
       "</tr>\n",
       "<tr>\n",
       "  <th>Cov. Estimator:</th>       <td>Clustered</td>    <th>                     </th>        <td></td>      \n",
       "</tr>\n",
       "<tr>\n",
       "  <th></th>                          <td></td>         <th>  F-statistic:       </th>     <td>131.85</td>   \n",
       "</tr>\n",
       "<tr>\n",
       "  <th>Entities:</th>                <td>89</td>        <th>  P-value            </th>     <td>0.0000</td>   \n",
       "</tr>\n",
       "<tr>\n",
       "  <th>Avg Obs:</th>               <td>3913.8</td>      <th>  Distribution:      </th>   <td>F(1,343873)</td>\n",
       "</tr>\n",
       "<tr>\n",
       "  <th>Min Obs:</th>               <td>14.000</td>      <th>                     </th>        <td></td>      \n",
       "</tr>\n",
       "<tr>\n",
       "  <th>Max Obs:</th>               <td>4315.0</td>      <th>  F-statistic (robust):</th>   <td>38.865</td>   \n",
       "</tr>\n",
       "<tr>\n",
       "  <th></th>                          <td></td>         <th>  P-value            </th>     <td>0.0000</td>   \n",
       "</tr>\n",
       "<tr>\n",
       "  <th>Time periods:</th>           <td>4366</td>       <th>  Distribution:      </th>   <td>F(1,343873)</td>\n",
       "</tr>\n",
       "<tr>\n",
       "  <th>Avg Obs:</th>               <td>79.782</td>      <th>                     </th>        <td></td>      \n",
       "</tr>\n",
       "<tr>\n",
       "  <th>Min Obs:</th>               <td>52.000</td>      <th>                     </th>        <td></td>      \n",
       "</tr>\n",
       "<tr>\n",
       "  <th>Max Obs:</th>               <td>88.000</td>      <th>                     </th>        <td></td>      \n",
       "</tr>\n",
       "<tr>\n",
       "  <th></th>                          <td></td>         <th>                     </th>        <td></td>      \n",
       "</tr>\n",
       "</table>\n",
       "<table class=\"simpletable\">\n",
       "<caption>Parameter Estimates</caption>\n",
       "<tr>\n",
       "    <td></td>    <th>Parameter</th> <th>Std. Err.</th> <th>T-stat</th>  <th>P-value</th> <th>Lower CI</th> <th>Upper CI</th>\n",
       "</tr>\n",
       "<tr>\n",
       "  <th>const</th>  <td>0.0020</td>    <td>0.0003</td>   <td>7.8000</td>  <td>0.0000</td>   <td>0.0015</td>   <td>0.0025</td> \n",
       "</tr>\n",
       "<tr>\n",
       "  <th>ratio</th>  <td>-0.0002</td>  <td>3.075e-05</td> <td>-6.2342</td> <td>0.0000</td>   <td>-0.0003</td>  <td>-0.0001</td>\n",
       "</tr>\n",
       "</table><br/><br/>F-test for Poolability: 52.621<br/>P-value: 0.0000<br/>Distribution: F(4453,343873)<br/><br/>Included effects: Entity, Time<br/>id: 0x1fac6dc2370"
      ],
      "text/plain": [
       "                          PanelOLS Estimation Summary                           \n",
       "================================================================================\n",
       "Dep. Variable:                    ret   R-squared:                        0.0004\n",
       "Estimator:                   PanelOLS   R-squared (Between):             -15.247\n",
       "No. Observations:              348328   R-squared (Within):               0.0004\n",
       "Date:                Sun, Jan 10 2021   R-squared (Overall):             -0.0015\n",
       "Time:                        15:06:02   Log-likelihood                 8.136e+05\n",
       "Cov. Estimator:             Clustered                                           \n",
       "                                        F-statistic:                      131.85\n",
       "Entities:                          89   P-value                           0.0000\n",
       "Avg Obs:                       3913.8   Distribution:                F(1,343873)\n",
       "Min Obs:                       14.000                                           \n",
       "Max Obs:                       4315.0   F-statistic (robust):             38.865\n",
       "                                        P-value                           0.0000\n",
       "Time periods:                    4366   Distribution:                F(1,343873)\n",
       "Avg Obs:                       79.782                                           \n",
       "Min Obs:                       52.000                                           \n",
       "Max Obs:                       88.000                                           \n",
       "                                                                                \n",
       "                             Parameter Estimates                              \n",
       "==============================================================================\n",
       "            Parameter  Std. Err.     T-stat    P-value    Lower CI    Upper CI\n",
       "------------------------------------------------------------------------------\n",
       "const          0.0020     0.0003     7.8000     0.0000      0.0015      0.0025\n",
       "ratio         -0.0002  3.075e-05    -6.2342     0.0000     -0.0003     -0.0001\n",
       "==============================================================================\n",
       "\n",
       "F-test for Poolability: 52.621\n",
       "P-value: 0.0000\n",
       "Distribution: F(4453,343873)\n",
       "\n",
       "Included effects: Entity, Time\n",
       "PanelEffectsResults, id: 0x1fac6dc2370"
      ]
     },
     "execution_count": 88,
     "metadata": {},
     "output_type": "execute_result"
    }
   ],
   "source": [
    "result"
   ]
  },
  {
   "cell_type": "code",
   "execution_count": null,
   "metadata": {},
   "outputs": [],
   "source": []
  },
  {
   "cell_type": "code",
   "execution_count": null,
   "metadata": {},
   "outputs": [],
   "source": []
  },
  {
   "cell_type": "code",
   "execution_count": 89,
   "metadata": {},
   "outputs": [
    {
     "data": {
      "text/html": [
       "<table class=\"simpletable\">\n",
       "<caption>PanelOLS Estimation Summary</caption>\n",
       "<tr>\n",
       "  <th>Dep. Variable:</th>           <td>ret</td>       <th>  R-squared:         </th>     <td>0.0004</td>   \n",
       "</tr>\n",
       "<tr>\n",
       "  <th>Estimator:</th>            <td>PanelOLS</td>     <th>  R-squared (Between):</th>    <td>-15.247</td>  \n",
       "</tr>\n",
       "<tr>\n",
       "  <th>No. Observations:</th>      <td>348328</td>      <th>  R-squared (Within):</th>     <td>0.0004</td>   \n",
       "</tr>\n",
       "<tr>\n",
       "  <th>Date:</th>             <td>Sun, Jan 10 2021</td> <th>  R-squared (Overall):</th>    <td>-0.0015</td>  \n",
       "</tr>\n",
       "<tr>\n",
       "  <th>Time:</th>                 <td>15:06:31</td>     <th>  Log-likelihood     </th>    <td>8.136e+05</td> \n",
       "</tr>\n",
       "<tr>\n",
       "  <th>Cov. Estimator:</th>    <td>Driscoll-Kraay</td>  <th>                     </th>        <td></td>      \n",
       "</tr>\n",
       "<tr>\n",
       "  <th></th>                          <td></td>         <th>  F-statistic:       </th>     <td>131.85</td>   \n",
       "</tr>\n",
       "<tr>\n",
       "  <th>Entities:</th>                <td>89</td>        <th>  P-value            </th>     <td>0.0000</td>   \n",
       "</tr>\n",
       "<tr>\n",
       "  <th>Avg Obs:</th>               <td>3913.8</td>      <th>  Distribution:      </th>   <td>F(1,343873)</td>\n",
       "</tr>\n",
       "<tr>\n",
       "  <th>Min Obs:</th>               <td>14.000</td>      <th>                     </th>        <td></td>      \n",
       "</tr>\n",
       "<tr>\n",
       "  <th>Max Obs:</th>               <td>4315.0</td>      <th>  F-statistic (robust):</th>   <td>55.724</td>   \n",
       "</tr>\n",
       "<tr>\n",
       "  <th></th>                          <td></td>         <th>  P-value            </th>     <td>0.0000</td>   \n",
       "</tr>\n",
       "<tr>\n",
       "  <th>Time periods:</th>           <td>4366</td>       <th>  Distribution:      </th>   <td>F(1,343873)</td>\n",
       "</tr>\n",
       "<tr>\n",
       "  <th>Avg Obs:</th>               <td>79.782</td>      <th>                     </th>        <td></td>      \n",
       "</tr>\n",
       "<tr>\n",
       "  <th>Min Obs:</th>               <td>52.000</td>      <th>                     </th>        <td></td>      \n",
       "</tr>\n",
       "<tr>\n",
       "  <th>Max Obs:</th>               <td>88.000</td>      <th>                     </th>        <td></td>      \n",
       "</tr>\n",
       "<tr>\n",
       "  <th></th>                          <td></td>         <th>                     </th>        <td></td>      \n",
       "</tr>\n",
       "</table>\n",
       "<table class=\"simpletable\">\n",
       "<caption>Parameter Estimates</caption>\n",
       "<tr>\n",
       "    <td></td>    <th>Parameter</th> <th>Std. Err.</th> <th>T-stat</th>  <th>P-value</th> <th>Lower CI</th> <th>Upper CI</th>\n",
       "</tr>\n",
       "<tr>\n",
       "  <th>const</th>  <td>0.0020</td>    <td>0.0002</td>   <td>9.3163</td>  <td>0.0000</td>   <td>0.0016</td>   <td>0.0025</td> \n",
       "</tr>\n",
       "<tr>\n",
       "  <th>ratio</th>  <td>-0.0002</td>  <td>2.568e-05</td> <td>-7.4648</td> <td>0.0000</td>   <td>-0.0002</td>  <td>-0.0001</td>\n",
       "</tr>\n",
       "</table><br/><br/>F-test for Poolability: 52.621<br/>P-value: 0.0000<br/>Distribution: F(4453,343873)<br/><br/>Included effects: Entity, Time<br/>id: 0x1fab9288070"
      ],
      "text/plain": [
       "                          PanelOLS Estimation Summary                           \n",
       "================================================================================\n",
       "Dep. Variable:                    ret   R-squared:                        0.0004\n",
       "Estimator:                   PanelOLS   R-squared (Between):             -15.247\n",
       "No. Observations:              348328   R-squared (Within):               0.0004\n",
       "Date:                Sun, Jan 10 2021   R-squared (Overall):             -0.0015\n",
       "Time:                        15:06:31   Log-likelihood                 8.136e+05\n",
       "Cov. Estimator:        Driscoll-Kraay                                           \n",
       "                                        F-statistic:                      131.85\n",
       "Entities:                          89   P-value                           0.0000\n",
       "Avg Obs:                       3913.8   Distribution:                F(1,343873)\n",
       "Min Obs:                       14.000                                           \n",
       "Max Obs:                       4315.0   F-statistic (robust):             55.724\n",
       "                                        P-value                           0.0000\n",
       "Time periods:                    4366   Distribution:                F(1,343873)\n",
       "Avg Obs:                       79.782                                           \n",
       "Min Obs:                       52.000                                           \n",
       "Max Obs:                       88.000                                           \n",
       "                                                                                \n",
       "                             Parameter Estimates                              \n",
       "==============================================================================\n",
       "            Parameter  Std. Err.     T-stat    P-value    Lower CI    Upper CI\n",
       "------------------------------------------------------------------------------\n",
       "const          0.0020     0.0002     9.3163     0.0000      0.0016      0.0025\n",
       "ratio         -0.0002  2.568e-05    -7.4648     0.0000     -0.0002     -0.0001\n",
       "==============================================================================\n",
       "\n",
       "F-test for Poolability: 52.621\n",
       "P-value: 0.0000\n",
       "Distribution: F(4453,343873)\n",
       "\n",
       "Included effects: Entity, Time\n",
       "PanelEffectsResults, id: 0x1fab9288070"
      ]
     },
     "execution_count": 89,
     "metadata": {},
     "output_type": "execute_result"
    }
   ],
   "source": [
    "mod.fit(cov_type=\"kernel\",cluster_entity=True,cluster_time=True)"
   ]
  },
  {
   "cell_type": "code",
   "execution_count": null,
   "metadata": {},
   "outputs": [],
   "source": []
  },
  {
   "cell_type": "code",
   "execution_count": null,
   "metadata": {},
   "outputs": [],
   "source": []
  },
  {
   "cell_type": "code",
   "execution_count": null,
   "metadata": {},
   "outputs": [],
   "source": []
  },
  {
   "cell_type": "code",
   "execution_count": 92,
   "metadata": {},
   "outputs": [],
   "source": [
    "mod = PanelOLS(depe,exog,entity_effects=False,time_effects=False)\n",
    "mod.fit(cov_type=\"clustered\",cluster_entity=False,cluster_time=True)"
   ]
  },
  {
   "cell_type": "code",
   "execution_count": null,
   "metadata": {},
   "outputs": [],
   "source": []
  },
  {
   "cell_type": "code",
   "execution_count": null,
   "metadata": {},
   "outputs": [],
   "source": []
  },
  {
   "cell_type": "code",
   "execution_count": null,
   "metadata": {},
   "outputs": [],
   "source": []
  },
  {
   "cell_type": "code",
   "execution_count": 94,
   "metadata": {},
   "outputs": [],
   "source": [
    "mod = FamaMacBeth(depe,exog)"
   ]
  },
  {
   "cell_type": "code",
   "execution_count": 95,
   "metadata": {},
   "outputs": [],
   "source": [
    "result = mod.fit(cov_type='kernel', kernel='bartlett')"
   ]
  },
  {
   "cell_type": "code",
   "execution_count": 96,
   "metadata": {},
   "outputs": [
    {
     "data": {
      "text/html": [
       "<table class=\"simpletable\">\n",
       "<caption>FamaMacBeth Estimation Summary</caption>\n",
       "<tr>\n",
       "  <th>Dep. Variable:</th>              <td>ret</td>           <th>  R-squared:         </th>    <td>3.976e-05</td> \n",
       "</tr>\n",
       "<tr>\n",
       "  <th>Estimator:</th>              <td>FamaMacBeth</td>       <th>  R-squared (Between):</th>    <td>-0.2095</td>  \n",
       "</tr>\n",
       "<tr>\n",
       "  <th>No. Observations:</th>         <td>348328</td>          <th>  R-squared (Within):</th>    <td>5.616e-05</td> \n",
       "</tr>\n",
       "<tr>\n",
       "  <th>Date:</th>                <td>Sun, Jan 10 2021</td>     <th>  R-squared (Overall):</th>   <td>3.976e-05</td> \n",
       "</tr>\n",
       "<tr>\n",
       "  <th>Time:</th>                    <td>15:07:28</td>         <th>  Log-likelihood     </th>    <td>7.231e+05</td> \n",
       "</tr>\n",
       "<tr>\n",
       "  <th>Cov. Estimator:</th>   <td>Fama-MacBeth Kernel Cov</td> <th>                     </th>        <td></td>      \n",
       "</tr>\n",
       "<tr>\n",
       "  <th></th>                             <td></td>             <th>  F-statistic:       </th>     <td>13.849</td>   \n",
       "</tr>\n",
       "<tr>\n",
       "  <th>Entities:</th>                   <td>89</td>            <th>  P-value            </th>     <td>0.0002</td>   \n",
       "</tr>\n",
       "<tr>\n",
       "  <th>Avg Obs:</th>                  <td>3913.8</td>          <th>  Distribution:      </th>   <td>F(1,348326)</td>\n",
       "</tr>\n",
       "<tr>\n",
       "  <th>Min Obs:</th>                  <td>14.000</td>          <th>                     </th>        <td></td>      \n",
       "</tr>\n",
       "<tr>\n",
       "  <th>Max Obs:</th>                  <td>4315.0</td>          <th>  F-statistic (robust):</th>   <td>3.2148</td>   \n",
       "</tr>\n",
       "<tr>\n",
       "  <th></th>                             <td></td>             <th>  P-value            </th>     <td>0.0730</td>   \n",
       "</tr>\n",
       "<tr>\n",
       "  <th>Time periods:</th>              <td>4366</td>           <th>  Distribution:      </th>   <td>F(1,348326)</td>\n",
       "</tr>\n",
       "<tr>\n",
       "  <th>Avg Obs:</th>                  <td>79.782</td>          <th>                     </th>        <td></td>      \n",
       "</tr>\n",
       "<tr>\n",
       "  <th>Min Obs:</th>                  <td>52.000</td>          <th>                     </th>        <td></td>      \n",
       "</tr>\n",
       "<tr>\n",
       "  <th>Max Obs:</th>                  <td>88.000</td>          <th>                     </th>        <td></td>      \n",
       "</tr>\n",
       "<tr>\n",
       "  <th></th>                             <td></td>             <th>                     </th>        <td></td>      \n",
       "</tr>\n",
       "</table>\n",
       "<table class=\"simpletable\">\n",
       "<caption>Parameter Estimates</caption>\n",
       "<tr>\n",
       "    <td></td>     <th>Parameter</th> <th>Std. Err.</th> <th>T-stat</th>  <th>P-value</th>  <th>Lower CI</th>  <th>Upper CI</th> \n",
       "</tr>\n",
       "<tr>\n",
       "  <th>const</th>   <td>0.0006</td>    <td>0.0003</td>   <td>1.8935</td>  <td>0.0583</td>  <td>-2.121e-05</td>  <td>0.0012</td>  \n",
       "</tr>\n",
       "<tr>\n",
       "  <th>ratio</th> <td>-1.706e-05</td> <td>9.512e-06</td> <td>-1.7930</td> <td>0.0730</td>   <td>-3.57e-05</td> <td>1.588e-06</td>\n",
       "</tr>\n",
       "</table><br/>id: 0x1fab467beb0"
      ],
      "text/plain": [
       "                            FamaMacBeth Estimation Summary                           \n",
       "=====================================================================================\n",
       "Dep. Variable:                         ret   R-squared:                     3.976e-05\n",
       "Estimator:                     FamaMacBeth   R-squared (Between):             -0.2095\n",
       "No. Observations:                   348328   R-squared (Within):            5.616e-05\n",
       "Date:                     Sun, Jan 10 2021   R-squared (Overall):           3.976e-05\n",
       "Time:                             15:07:28   Log-likelihood                 7.231e+05\n",
       "Cov. Estimator:    Fama-MacBeth Kernel Cov                                           \n",
       "                                             F-statistic:                      13.849\n",
       "Entities:                               89   P-value                           0.0002\n",
       "Avg Obs:                            3913.8   Distribution:                F(1,348326)\n",
       "Min Obs:                            14.000                                           \n",
       "Max Obs:                            4315.0   F-statistic (robust):             3.2148\n",
       "                                             P-value                           0.0730\n",
       "Time periods:                         4366   Distribution:                F(1,348326)\n",
       "Avg Obs:                            79.782                                           \n",
       "Min Obs:                            52.000                                           \n",
       "Max Obs:                            88.000                                           \n",
       "                                                                                     \n",
       "                             Parameter Estimates                              \n",
       "==============================================================================\n",
       "            Parameter  Std. Err.     T-stat    P-value    Lower CI    Upper CI\n",
       "------------------------------------------------------------------------------\n",
       "const          0.0006     0.0003     1.8935     0.0583  -2.121e-05      0.0012\n",
       "ratio      -1.706e-05  9.512e-06    -1.7930     0.0730   -3.57e-05   1.588e-06\n",
       "==============================================================================\n",
       "FamaMacBethResults, id: 0x1fab467beb0"
      ]
     },
     "execution_count": 96,
     "metadata": {},
     "output_type": "execute_result"
    }
   ],
   "source": [
    "result"
   ]
  },
  {
   "cell_type": "code",
   "execution_count": null,
   "metadata": {},
   "outputs": [],
   "source": []
  },
  {
   "cell_type": "code",
   "execution_count": null,
   "metadata": {},
   "outputs": [],
   "source": []
  },
  {
   "cell_type": "code",
   "execution_count": null,
   "metadata": {},
   "outputs": [],
   "source": []
  },
  {
   "cell_type": "code",
   "execution_count": null,
   "metadata": {},
   "outputs": [],
   "source": []
  },
  {
   "cell_type": "code",
   "execution_count": null,
   "metadata": {},
   "outputs": [],
   "source": []
  },
  {
   "cell_type": "markdown",
   "metadata": {},
   "source": [
    "### Weekly Version Result"
   ]
  },
  {
   "cell_type": "code",
   "execution_count": 97,
   "metadata": {},
   "outputs": [],
   "source": [
    "df_wide = df.pivot_table(values=\"a_price\",columns=\"unique_id\",index=\"date\")\n",
    "ratio_wide = df.pivot_table(values=\"ratio\",columns=\"unique_id\",index=\"date\")"
   ]
  },
  {
   "cell_type": "code",
   "execution_count": null,
   "metadata": {},
   "outputs": [],
   "source": []
  },
  {
   "cell_type": "code",
   "execution_count": 105,
   "metadata": {},
   "outputs": [],
   "source": [
    "df_wide_weekly = df_wide.resample(\"W\").last()\n",
    "weekly_ret_df = df_wide_weekly.pct_change()\n",
    "weekly_ret_df_long = weekly_ret_df.stack()\n",
    "\n",
    "ratio_wide_weekly = ratio_wide.resample(\"W\").last()\n",
    "ratio_wide_weekly = ratio_wide_weekly.shift(1)\n",
    "ratio_long_weekly = ratio_wide_weekly.stack()"
   ]
  },
  {
   "cell_type": "code",
   "execution_count": null,
   "metadata": {},
   "outputs": [],
   "source": []
  },
  {
   "cell_type": "code",
   "execution_count": null,
   "metadata": {},
   "outputs": [],
   "source": []
  },
  {
   "cell_type": "code",
   "execution_count": 121,
   "metadata": {},
   "outputs": [],
   "source": [
    "merge_df = pd.concat([weekly_ret_df_long,ratio_long_weekly],axis=1)\n",
    "merge_df.columns = [\"ret\",\"ratio\"]\n",
    "\n",
    "index_df = merge_df.index.to_frame()\n",
    "index_df[\"ret\"] = merge_df[\"ret\"]\n",
    "index_df[\"ratio\"] = merge_df[\"ratio\"]\n",
    "merge_df = index_df\n",
    "\n",
    "merge_df = merge_df.set_index([\"unique_id\",\"date\"])\n",
    "merge_df = merge_df.dropna()"
   ]
  },
  {
   "cell_type": "code",
   "execution_count": null,
   "metadata": {},
   "outputs": [],
   "source": []
  },
  {
   "cell_type": "code",
   "execution_count": 123,
   "metadata": {},
   "outputs": [],
   "source": [
    "exog_var = [\"ratio\"]\n",
    "depe_var = [\"ret\"]\n",
    "\n",
    "exog = merge_df[exog_var]\n",
    "depe = merge_df[depe_var]\n",
    "\n",
    "exog = sm.add_constant(exog)"
   ]
  },
  {
   "cell_type": "code",
   "execution_count": null,
   "metadata": {},
   "outputs": [],
   "source": []
  },
  {
   "cell_type": "code",
   "execution_count": 125,
   "metadata": {},
   "outputs": [],
   "source": [
    "mod = PanelOLS(depe,exog,entity_effects=True,time_effects=True)"
   ]
  },
  {
   "cell_type": "code",
   "execution_count": 126,
   "metadata": {},
   "outputs": [],
   "source": [
    "result = mod.fit(cov_type=\"clustered\",cluster_entity=True,cluster_time=True)"
   ]
  },
  {
   "cell_type": "code",
   "execution_count": 127,
   "metadata": {},
   "outputs": [
    {
     "data": {
      "text/html": [
       "<table class=\"simpletable\">\n",
       "<caption>PanelOLS Estimation Summary</caption>\n",
       "<tr>\n",
       "  <th>Dep. Variable:</th>           <td>ret</td>       <th>  R-squared:         </th>     <td>0.0015</td>  \n",
       "</tr>\n",
       "<tr>\n",
       "  <th>Estimator:</th>            <td>PanelOLS</td>     <th>  R-squared (Between):</th>    <td>-7.2406</td> \n",
       "</tr>\n",
       "<tr>\n",
       "  <th>No. Observations:</th>       <td>73650</td>      <th>  R-squared (Within):</th>     <td>0.0017</td>  \n",
       "</tr>\n",
       "<tr>\n",
       "  <th>Date:</th>             <td>Sun, Jan 10 2021</td> <th>  R-squared (Overall):</th>    <td>-0.0059</td> \n",
       "</tr>\n",
       "<tr>\n",
       "  <th>Time:</th>                 <td>16:32:32</td>     <th>  Log-likelihood     </th>    <td>1.121e+05</td>\n",
       "</tr>\n",
       "<tr>\n",
       "  <th>Cov. Estimator:</th>       <td>Clustered</td>    <th>                     </th>        <td></td>     \n",
       "</tr>\n",
       "<tr>\n",
       "  <th></th>                          <td></td>         <th>  F-statistic:       </th>     <td>110.59</td>  \n",
       "</tr>\n",
       "<tr>\n",
       "  <th>Entities:</th>                <td>89</td>        <th>  P-value            </th>     <td>0.0000</td>  \n",
       "</tr>\n",
       "<tr>\n",
       "  <th>Avg Obs:</th>               <td>827.53</td>      <th>  Distribution:      </th>   <td>F(1,72649)</td>\n",
       "</tr>\n",
       "<tr>\n",
       "  <th>Min Obs:</th>               <td>14.000</td>      <th>                     </th>        <td></td>     \n",
       "</tr>\n",
       "<tr>\n",
       "  <th>Max Obs:</th>               <td>909.00</td>      <th>  F-statistic (robust):</th>   <td>40.010</td>  \n",
       "</tr>\n",
       "<tr>\n",
       "  <th></th>                          <td></td>         <th>  P-value            </th>     <td>0.0000</td>  \n",
       "</tr>\n",
       "<tr>\n",
       "  <th>Time periods:</th>            <td>939</td>       <th>  Distribution:      </th>   <td>F(1,72649)</td>\n",
       "</tr>\n",
       "<tr>\n",
       "  <th>Avg Obs:</th>               <td>78.435</td>      <th>                     </th>        <td></td>     \n",
       "</tr>\n",
       "<tr>\n",
       "  <th>Min Obs:</th>               <td>0.0000</td>      <th>                     </th>        <td></td>     \n",
       "</tr>\n",
       "<tr>\n",
       "  <th>Max Obs:</th>               <td>88.000</td>      <th>                     </th>        <td></td>     \n",
       "</tr>\n",
       "<tr>\n",
       "  <th></th>                          <td></td>         <th>                     </th>        <td></td>     \n",
       "</tr>\n",
       "</table>\n",
       "<table class=\"simpletable\">\n",
       "<caption>Parameter Estimates</caption>\n",
       "<tr>\n",
       "    <td></td>    <th>Parameter</th> <th>Std. Err.</th> <th>T-stat</th>  <th>P-value</th> <th>Lower CI</th> <th>Upper CI</th>\n",
       "</tr>\n",
       "<tr>\n",
       "  <th>const</th>  <td>0.0092</td>    <td>0.0011</td>   <td>7.9893</td>  <td>0.0000</td>   <td>0.0069</td>   <td>0.0114</td> \n",
       "</tr>\n",
       "<tr>\n",
       "  <th>ratio</th>  <td>-0.0009</td>   <td>0.0001</td>   <td>-6.3254</td> <td>0.0000</td>   <td>-0.0011</td>  <td>-0.0006</td>\n",
       "</tr>\n",
       "</table><br/><br/>F-test for Poolability: 47.057<br/>P-value: 0.0000<br/>Distribution: F(999,72649)<br/><br/>Included effects: Entity, Time<br/>id: 0x1fac09a03d0"
      ],
      "text/plain": [
       "                          PanelOLS Estimation Summary                           \n",
       "================================================================================\n",
       "Dep. Variable:                    ret   R-squared:                        0.0015\n",
       "Estimator:                   PanelOLS   R-squared (Between):             -7.2406\n",
       "No. Observations:               73650   R-squared (Within):               0.0017\n",
       "Date:                Sun, Jan 10 2021   R-squared (Overall):             -0.0059\n",
       "Time:                        16:32:32   Log-likelihood                 1.121e+05\n",
       "Cov. Estimator:             Clustered                                           \n",
       "                                        F-statistic:                      110.59\n",
       "Entities:                          89   P-value                           0.0000\n",
       "Avg Obs:                       827.53   Distribution:                 F(1,72649)\n",
       "Min Obs:                       14.000                                           \n",
       "Max Obs:                       909.00   F-statistic (robust):             40.010\n",
       "                                        P-value                           0.0000\n",
       "Time periods:                     939   Distribution:                 F(1,72649)\n",
       "Avg Obs:                       78.435                                           \n",
       "Min Obs:                       0.0000                                           \n",
       "Max Obs:                       88.000                                           \n",
       "                                                                                \n",
       "                             Parameter Estimates                              \n",
       "==============================================================================\n",
       "            Parameter  Std. Err.     T-stat    P-value    Lower CI    Upper CI\n",
       "------------------------------------------------------------------------------\n",
       "const          0.0092     0.0011     7.9893     0.0000      0.0069      0.0114\n",
       "ratio         -0.0009     0.0001    -6.3254     0.0000     -0.0011     -0.0006\n",
       "==============================================================================\n",
       "\n",
       "F-test for Poolability: 47.057\n",
       "P-value: 0.0000\n",
       "Distribution: F(999,72649)\n",
       "\n",
       "Included effects: Entity, Time\n",
       "PanelEffectsResults, id: 0x1fac09a03d0"
      ]
     },
     "execution_count": 127,
     "metadata": {},
     "output_type": "execute_result"
    }
   ],
   "source": [
    "result"
   ]
  },
  {
   "cell_type": "code",
   "execution_count": 128,
   "metadata": {},
   "outputs": [
    {
     "data": {
      "text/html": [
       "<table class=\"simpletable\">\n",
       "<caption>PanelOLS Estimation Summary</caption>\n",
       "<tr>\n",
       "  <th>Dep. Variable:</th>           <td>ret</td>       <th>  R-squared:         </th>     <td>0.0015</td>  \n",
       "</tr>\n",
       "<tr>\n",
       "  <th>Estimator:</th>            <td>PanelOLS</td>     <th>  R-squared (Between):</th>    <td>-7.2406</td> \n",
       "</tr>\n",
       "<tr>\n",
       "  <th>No. Observations:</th>       <td>73650</td>      <th>  R-squared (Within):</th>     <td>0.0017</td>  \n",
       "</tr>\n",
       "<tr>\n",
       "  <th>Date:</th>             <td>Sun, Jan 10 2021</td> <th>  R-squared (Overall):</th>    <td>-0.0059</td> \n",
       "</tr>\n",
       "<tr>\n",
       "  <th>Time:</th>                 <td>16:33:15</td>     <th>  Log-likelihood     </th>    <td>1.121e+05</td>\n",
       "</tr>\n",
       "<tr>\n",
       "  <th>Cov. Estimator:</th>    <td>Driscoll-Kraay</td>  <th>                     </th>        <td></td>     \n",
       "</tr>\n",
       "<tr>\n",
       "  <th></th>                          <td></td>         <th>  F-statistic:       </th>     <td>110.59</td>  \n",
       "</tr>\n",
       "<tr>\n",
       "  <th>Entities:</th>                <td>89</td>        <th>  P-value            </th>     <td>0.0000</td>  \n",
       "</tr>\n",
       "<tr>\n",
       "  <th>Avg Obs:</th>               <td>827.53</td>      <th>  Distribution:      </th>   <td>F(1,72649)</td>\n",
       "</tr>\n",
       "<tr>\n",
       "  <th>Min Obs:</th>               <td>14.000</td>      <th>                     </th>        <td></td>     \n",
       "</tr>\n",
       "<tr>\n",
       "  <th>Max Obs:</th>               <td>909.00</td>      <th>  F-statistic (robust):</th>   <td>52.199</td>  \n",
       "</tr>\n",
       "<tr>\n",
       "  <th></th>                          <td></td>         <th>  P-value            </th>     <td>0.0000</td>  \n",
       "</tr>\n",
       "<tr>\n",
       "  <th>Time periods:</th>            <td>939</td>       <th>  Distribution:      </th>   <td>F(1,72649)</td>\n",
       "</tr>\n",
       "<tr>\n",
       "  <th>Avg Obs:</th>               <td>78.435</td>      <th>                     </th>        <td></td>     \n",
       "</tr>\n",
       "<tr>\n",
       "  <th>Min Obs:</th>               <td>0.0000</td>      <th>                     </th>        <td></td>     \n",
       "</tr>\n",
       "<tr>\n",
       "  <th>Max Obs:</th>               <td>88.000</td>      <th>                     </th>        <td></td>     \n",
       "</tr>\n",
       "<tr>\n",
       "  <th></th>                          <td></td>         <th>                     </th>        <td></td>     \n",
       "</tr>\n",
       "</table>\n",
       "<table class=\"simpletable\">\n",
       "<caption>Parameter Estimates</caption>\n",
       "<tr>\n",
       "    <td></td>    <th>Parameter</th> <th>Std. Err.</th> <th>T-stat</th>  <th>P-value</th> <th>Lower CI</th> <th>Upper CI</th>\n",
       "</tr>\n",
       "<tr>\n",
       "  <th>const</th>  <td>0.0092</td>    <td>0.0010</td>   <td>9.0659</td>  <td>0.0000</td>   <td>0.0072</td>   <td>0.0111</td> \n",
       "</tr>\n",
       "<tr>\n",
       "  <th>ratio</th>  <td>-0.0009</td>   <td>0.0001</td>   <td>-7.2249</td> <td>0.0000</td>   <td>-0.0011</td>  <td>-0.0006</td>\n",
       "</tr>\n",
       "</table><br/><br/>F-test for Poolability: 47.057<br/>P-value: 0.0000<br/>Distribution: F(999,72649)<br/><br/>Included effects: Entity, Time<br/>id: 0x1fac1bbf910"
      ],
      "text/plain": [
       "                          PanelOLS Estimation Summary                           \n",
       "================================================================================\n",
       "Dep. Variable:                    ret   R-squared:                        0.0015\n",
       "Estimator:                   PanelOLS   R-squared (Between):             -7.2406\n",
       "No. Observations:               73650   R-squared (Within):               0.0017\n",
       "Date:                Sun, Jan 10 2021   R-squared (Overall):             -0.0059\n",
       "Time:                        16:33:15   Log-likelihood                 1.121e+05\n",
       "Cov. Estimator:        Driscoll-Kraay                                           \n",
       "                                        F-statistic:                      110.59\n",
       "Entities:                          89   P-value                           0.0000\n",
       "Avg Obs:                       827.53   Distribution:                 F(1,72649)\n",
       "Min Obs:                       14.000                                           \n",
       "Max Obs:                       909.00   F-statistic (robust):             52.199\n",
       "                                        P-value                           0.0000\n",
       "Time periods:                     939   Distribution:                 F(1,72649)\n",
       "Avg Obs:                       78.435                                           \n",
       "Min Obs:                       0.0000                                           \n",
       "Max Obs:                       88.000                                           \n",
       "                                                                                \n",
       "                             Parameter Estimates                              \n",
       "==============================================================================\n",
       "            Parameter  Std. Err.     T-stat    P-value    Lower CI    Upper CI\n",
       "------------------------------------------------------------------------------\n",
       "const          0.0092     0.0010     9.0659     0.0000      0.0072      0.0111\n",
       "ratio         -0.0009     0.0001    -7.2249     0.0000     -0.0011     -0.0006\n",
       "==============================================================================\n",
       "\n",
       "F-test for Poolability: 47.057\n",
       "P-value: 0.0000\n",
       "Distribution: F(999,72649)\n",
       "\n",
       "Included effects: Entity, Time\n",
       "PanelEffectsResults, id: 0x1fac1bbf910"
      ]
     },
     "execution_count": 128,
     "metadata": {},
     "output_type": "execute_result"
    }
   ],
   "source": [
    "mod.fit(cov_type=\"kernel\",cluster_entity=True,cluster_time=True)"
   ]
  },
  {
   "cell_type": "code",
   "execution_count": 129,
   "metadata": {},
   "outputs": [],
   "source": [
    "mod = FamaMacBeth(depe,exog)\n",
    "result = mod.fit(cov_type='kernel', kernel='bartlett')"
   ]
  },
  {
   "cell_type": "code",
   "execution_count": 131,
   "metadata": {},
   "outputs": [
    {
     "data": {
      "text/html": [
       "<table class=\"simpletable\">\n",
       "<caption>FamaMacBeth Estimation Summary</caption>\n",
       "<tr>\n",
       "  <th>Dep. Variable:</th>              <td>ret</td>           <th>  R-squared:         </th>     <td>0.0001</td>  \n",
       "</tr>\n",
       "<tr>\n",
       "  <th>Estimator:</th>              <td>FamaMacBeth</td>       <th>  R-squared (Between):</th>    <td>-0.0455</td> \n",
       "</tr>\n",
       "<tr>\n",
       "  <th>No. Observations:</th>          <td>73650</td>          <th>  R-squared (Within):</th>     <td>0.0002</td>  \n",
       "</tr>\n",
       "<tr>\n",
       "  <th>Date:</th>                <td>Sun, Jan 10 2021</td>     <th>  R-squared (Overall):</th>    <td>0.0001</td>  \n",
       "</tr>\n",
       "<tr>\n",
       "  <th>Time:</th>                    <td>16:33:56</td>         <th>  Log-likelihood     </th>    <td>9.369e+04</td>\n",
       "</tr>\n",
       "<tr>\n",
       "  <th>Cov. Estimator:</th>   <td>Fama-MacBeth Kernel Cov</td> <th>                     </th>        <td></td>     \n",
       "</tr>\n",
       "<tr>\n",
       "  <th></th>                             <td></td>             <th>  F-statistic:       </th>     <td>10.856</td>  \n",
       "</tr>\n",
       "<tr>\n",
       "  <th>Entities:</th>                   <td>89</td>            <th>  P-value            </th>     <td>0.0010</td>  \n",
       "</tr>\n",
       "<tr>\n",
       "  <th>Avg Obs:</th>                  <td>827.53</td>          <th>  Distribution:      </th>   <td>F(1,73648)</td>\n",
       "</tr>\n",
       "<tr>\n",
       "  <th>Min Obs:</th>                  <td>14.000</td>          <th>                     </th>        <td></td>     \n",
       "</tr>\n",
       "<tr>\n",
       "  <th>Max Obs:</th>                  <td>909.00</td>          <th>  F-statistic (robust):</th>   <td>2.2497</td>  \n",
       "</tr>\n",
       "<tr>\n",
       "  <th></th>                             <td></td>             <th>  P-value            </th>     <td>0.1336</td>  \n",
       "</tr>\n",
       "<tr>\n",
       "  <th>Time periods:</th>               <td>939</td>           <th>  Distribution:      </th>   <td>F(1,73648)</td>\n",
       "</tr>\n",
       "<tr>\n",
       "  <th>Avg Obs:</th>                  <td>78.435</td>          <th>                     </th>        <td></td>     \n",
       "</tr>\n",
       "<tr>\n",
       "  <th>Min Obs:</th>                  <td>0.0000</td>          <th>                     </th>        <td></td>     \n",
       "</tr>\n",
       "<tr>\n",
       "  <th>Max Obs:</th>                  <td>88.000</td>          <th>                     </th>        <td></td>     \n",
       "</tr>\n",
       "<tr>\n",
       "  <th></th>                             <td></td>             <th>                     </th>        <td></td>     \n",
       "</tr>\n",
       "</table>\n",
       "<table class=\"simpletable\">\n",
       "<caption>Parameter Estimates</caption>\n",
       "<tr>\n",
       "    <td></td>     <th>Parameter</th> <th>Std. Err.</th> <th>T-stat</th>  <th>P-value</th> <th>Lower CI</th> <th>Upper CI</th> \n",
       "</tr>\n",
       "<tr>\n",
       "  <th>const</th>   <td>0.0026</td>    <td>0.0017</td>   <td>1.5292</td>  <td>0.1262</td>   <td>-0.0007</td>  <td>0.0059</td>  \n",
       "</tr>\n",
       "<tr>\n",
       "  <th>ratio</th> <td>-6.384e-05</td> <td>4.256e-05</td> <td>-1.4999</td> <td>0.1336</td>   <td>-0.0001</td> <td>1.958e-05</td>\n",
       "</tr>\n",
       "</table><br/>id: 0x1fabdd19190"
      ],
      "text/plain": [
       "                            FamaMacBeth Estimation Summary                           \n",
       "=====================================================================================\n",
       "Dep. Variable:                         ret   R-squared:                        0.0001\n",
       "Estimator:                     FamaMacBeth   R-squared (Between):             -0.0455\n",
       "No. Observations:                    73650   R-squared (Within):               0.0002\n",
       "Date:                     Sun, Jan 10 2021   R-squared (Overall):              0.0001\n",
       "Time:                             16:33:56   Log-likelihood                 9.369e+04\n",
       "Cov. Estimator:    Fama-MacBeth Kernel Cov                                           \n",
       "                                             F-statistic:                      10.856\n",
       "Entities:                               89   P-value                           0.0010\n",
       "Avg Obs:                            827.53   Distribution:                 F(1,73648)\n",
       "Min Obs:                            14.000                                           \n",
       "Max Obs:                            909.00   F-statistic (robust):             2.2497\n",
       "                                             P-value                           0.1336\n",
       "Time periods:                          939   Distribution:                 F(1,73648)\n",
       "Avg Obs:                            78.435                                           \n",
       "Min Obs:                            0.0000                                           \n",
       "Max Obs:                            88.000                                           \n",
       "                                                                                     \n",
       "                             Parameter Estimates                              \n",
       "==============================================================================\n",
       "            Parameter  Std. Err.     T-stat    P-value    Lower CI    Upper CI\n",
       "------------------------------------------------------------------------------\n",
       "const          0.0026     0.0017     1.5292     0.1262     -0.0007      0.0059\n",
       "ratio      -6.384e-05  4.256e-05    -1.4999     0.1336     -0.0001   1.958e-05\n",
       "==============================================================================\n",
       "FamaMacBethResults, id: 0x1fabdd19190"
      ]
     },
     "execution_count": 131,
     "metadata": {},
     "output_type": "execute_result"
    }
   ],
   "source": [
    "result"
   ]
  },
  {
   "cell_type": "code",
   "execution_count": null,
   "metadata": {},
   "outputs": [],
   "source": []
  },
  {
   "cell_type": "code",
   "execution_count": null,
   "metadata": {},
   "outputs": [],
   "source": []
  },
  {
   "cell_type": "code",
   "execution_count": 132,
   "metadata": {},
   "outputs": [
    {
     "data": {
      "text/html": [
       "<table class=\"simpletable\">\n",
       "<caption>PanelOLS Estimation Summary</caption>\n",
       "<tr>\n",
       "  <th>Dep. Variable:</th>           <td>ret</td>       <th>  R-squared:         </th>     <td>0.0002</td>  \n",
       "</tr>\n",
       "<tr>\n",
       "  <th>Estimator:</th>            <td>PanelOLS</td>     <th>  R-squared (Between):</th>    <td>-0.1776</td> \n",
       "</tr>\n",
       "<tr>\n",
       "  <th>No. Observations:</th>       <td>73650</td>      <th>  R-squared (Within):</th>     <td>0.0004</td>  \n",
       "</tr>\n",
       "<tr>\n",
       "  <th>Date:</th>             <td>Sun, Jan 10 2021</td> <th>  R-squared (Overall):</th>    <td>0.0002</td>  \n",
       "</tr>\n",
       "<tr>\n",
       "  <th>Time:</th>                 <td>16:35:21</td>     <th>  Log-likelihood     </th>    <td>9.369e+04</td>\n",
       "</tr>\n",
       "<tr>\n",
       "  <th>Cov. Estimator:</th>       <td>Clustered</td>    <th>                     </th>        <td></td>     \n",
       "</tr>\n",
       "<tr>\n",
       "  <th></th>                          <td></td>         <th>  F-statistic:       </th>     <td>16.150</td>  \n",
       "</tr>\n",
       "<tr>\n",
       "  <th>Entities:</th>                <td>89</td>        <th>  P-value            </th>     <td>0.0001</td>  \n",
       "</tr>\n",
       "<tr>\n",
       "  <th>Avg Obs:</th>               <td>827.53</td>      <th>  Distribution:      </th>   <td>F(1,73648)</td>\n",
       "</tr>\n",
       "<tr>\n",
       "  <th>Min Obs:</th>               <td>14.000</td>      <th>                     </th>        <td></td>     \n",
       "</tr>\n",
       "<tr>\n",
       "  <th>Max Obs:</th>               <td>909.00</td>      <th>  F-statistic (robust):</th>   <td>7.7213</td>  \n",
       "</tr>\n",
       "<tr>\n",
       "  <th></th>                          <td></td>         <th>  P-value            </th>     <td>0.0055</td>  \n",
       "</tr>\n",
       "<tr>\n",
       "  <th>Time periods:</th>            <td>939</td>       <th>  Distribution:      </th>   <td>F(1,73648)</td>\n",
       "</tr>\n",
       "<tr>\n",
       "  <th>Avg Obs:</th>               <td>78.435</td>      <th>                     </th>        <td></td>     \n",
       "</tr>\n",
       "<tr>\n",
       "  <th>Min Obs:</th>               <td>0.0000</td>      <th>                     </th>        <td></td>     \n",
       "</tr>\n",
       "<tr>\n",
       "  <th>Max Obs:</th>               <td>88.000</td>      <th>                     </th>        <td></td>     \n",
       "</tr>\n",
       "<tr>\n",
       "  <th></th>                          <td></td>         <th>                     </th>        <td></td>     \n",
       "</tr>\n",
       "</table>\n",
       "<table class=\"simpletable\">\n",
       "<caption>Parameter Estimates</caption>\n",
       "<tr>\n",
       "    <td></td>    <th>Parameter</th> <th>Std. Err.</th> <th>T-stat</th>  <th>P-value</th> <th>Lower CI</th> <th>Upper CI</th> \n",
       "</tr>\n",
       "<tr>\n",
       "  <th>const</th>  <td>0.0030</td>    <td>0.0014</td>   <td>2.2006</td>  <td>0.0278</td>   <td>0.0003</td>   <td>0.0057</td>  \n",
       "</tr>\n",
       "<tr>\n",
       "  <th>ratio</th>  <td>-0.0001</td>  <td>4.935e-05</td> <td>-2.7787</td> <td>0.0055</td>   <td>-0.0002</td> <td>-4.04e-05</td>\n",
       "</tr>\n",
       "</table><br/><br/><br/>id: 0x1fac1bbf130"
      ],
      "text/plain": [
       "                          PanelOLS Estimation Summary                           \n",
       "================================================================================\n",
       "Dep. Variable:                    ret   R-squared:                        0.0002\n",
       "Estimator:                   PanelOLS   R-squared (Between):             -0.1776\n",
       "No. Observations:               73650   R-squared (Within):               0.0004\n",
       "Date:                Sun, Jan 10 2021   R-squared (Overall):              0.0002\n",
       "Time:                        16:35:21   Log-likelihood                 9.369e+04\n",
       "Cov. Estimator:             Clustered                                           \n",
       "                                        F-statistic:                      16.150\n",
       "Entities:                          89   P-value                           0.0001\n",
       "Avg Obs:                       827.53   Distribution:                 F(1,73648)\n",
       "Min Obs:                       14.000                                           \n",
       "Max Obs:                       909.00   F-statistic (robust):             7.7213\n",
       "                                        P-value                           0.0055\n",
       "Time periods:                     939   Distribution:                 F(1,73648)\n",
       "Avg Obs:                       78.435                                           \n",
       "Min Obs:                       0.0000                                           \n",
       "Max Obs:                       88.000                                           \n",
       "                                                                                \n",
       "                             Parameter Estimates                              \n",
       "==============================================================================\n",
       "            Parameter  Std. Err.     T-stat    P-value    Lower CI    Upper CI\n",
       "------------------------------------------------------------------------------\n",
       "const          0.0030     0.0014     2.2006     0.0278      0.0003      0.0057\n",
       "ratio         -0.0001  4.935e-05    -2.7787     0.0055     -0.0002   -4.04e-05\n",
       "==============================================================================\n",
       "\n",
       "\n",
       "PanelEffectsResults, id: 0x1fac1bbf130"
      ]
     },
     "execution_count": 132,
     "metadata": {},
     "output_type": "execute_result"
    }
   ],
   "source": [
    "mod = PanelOLS(depe,exog,entity_effects=False,time_effects=False)\n",
    "mod.fit(cov_type=\"clustered\",cluster_entity=False,cluster_time=True)"
   ]
  },
  {
   "cell_type": "code",
   "execution_count": null,
   "metadata": {},
   "outputs": [],
   "source": []
  },
  {
   "cell_type": "markdown",
   "metadata": {},
   "source": [
    "### Monthly Version Regression"
   ]
  },
  {
   "cell_type": "code",
   "execution_count": null,
   "metadata": {},
   "outputs": [],
   "source": []
  },
  {
   "cell_type": "code",
   "execution_count": null,
   "metadata": {},
   "outputs": [],
   "source": [
    "df_wide = df.pivot_table(values=\"a_price\",columns=\"unique_id\",index=\"date\")\n",
    "ratio_wide = df.pivot_table(values=\"ratio\",columns=\"unique_id\",index=\"date\")"
   ]
  },
  {
   "cell_type": "code",
   "execution_count": 133,
   "metadata": {},
   "outputs": [],
   "source": [
    "df_wide_monthly = df_wide.resample(\"M\").last()\n",
    "monthly_ret_df = df_wide_monthly.pct_change()\n",
    "monthly_ret_df_long = monthly_ret_df.stack()\n",
    "\n",
    "ratio_wide_monthly = ratio_wide.resample(\"M\").last()\n",
    "ratio_wide_monthly = ratio_wide_monthly.shift(1)\n",
    "ratio_long_monthly = ratio_wide_monthly.stack()"
   ]
  },
  {
   "cell_type": "code",
   "execution_count": 136,
   "metadata": {},
   "outputs": [],
   "source": [
    "merge_df = pd.concat([monthly_ret_df_long,ratio_long_monthly],axis=1)\n",
    "merge_df.columns = [\"ret\",\"ratio\"]\n",
    "\n",
    "index_df = merge_df.index.to_frame()\n",
    "index_df[\"ret\"] = merge_df[\"ret\"]\n",
    "index_df[\"ratio\"] = merge_df[\"ratio\"]\n",
    "merge_df = index_df\n",
    "\n",
    "merge_df = merge_df.set_index([\"unique_id\",\"date\"])\n",
    "merge_df = merge_df.dropna()"
   ]
  },
  {
   "cell_type": "code",
   "execution_count": 138,
   "metadata": {},
   "outputs": [],
   "source": [
    "exog_var = [\"ratio\"]\n",
    "depe_var = [\"ret\"]\n",
    "\n",
    "exog = merge_df[exog_var]\n",
    "depe = merge_df[depe_var]\n",
    "\n",
    "exog = sm.add_constant(exog)"
   ]
  },
  {
   "cell_type": "code",
   "execution_count": null,
   "metadata": {},
   "outputs": [],
   "source": []
  },
  {
   "cell_type": "code",
   "execution_count": 139,
   "metadata": {},
   "outputs": [],
   "source": [
    "mod = PanelOLS(depe,exog,entity_effects=True,time_effects=True)"
   ]
  },
  {
   "cell_type": "code",
   "execution_count": 140,
   "metadata": {},
   "outputs": [],
   "source": [
    "result = mod.fit(cov_type=\"clustered\",cluster_entity=True,cluster_time=True)"
   ]
  },
  {
   "cell_type": "code",
   "execution_count": 141,
   "metadata": {},
   "outputs": [
    {
     "data": {
      "text/html": [
       "<table class=\"simpletable\">\n",
       "<caption>PanelOLS Estimation Summary</caption>\n",
       "<tr>\n",
       "  <th>Dep. Variable:</th>           <td>ret</td>       <th>  R-squared:         </th>     <td>0.0047</td>  \n",
       "</tr>\n",
       "<tr>\n",
       "  <th>Estimator:</th>            <td>PanelOLS</td>     <th>  R-squared (Between):</th>    <td>-2.9765</td> \n",
       "</tr>\n",
       "<tr>\n",
       "  <th>No. Observations:</th>       <td>17625</td>      <th>  R-squared (Within):</th>     <td>0.0040</td>  \n",
       "</tr>\n",
       "<tr>\n",
       "  <th>Date:</th>             <td>Sun, Jan 10 2021</td> <th>  R-squared (Overall):</th>    <td>-0.0180</td> \n",
       "</tr>\n",
       "<tr>\n",
       "  <th>Time:</th>                 <td>16:50:18</td>     <th>  Log-likelihood     </th>    <td>1.41e+04</td> \n",
       "</tr>\n",
       "<tr>\n",
       "  <th>Cov. Estimator:</th>       <td>Clustered</td>    <th>                     </th>        <td></td>     \n",
       "</tr>\n",
       "<tr>\n",
       "  <th></th>                          <td></td>         <th>  F-statistic:       </th>     <td>81.858</td>  \n",
       "</tr>\n",
       "<tr>\n",
       "  <th>Entities:</th>                <td>89</td>        <th>  P-value            </th>     <td>0.0000</td>  \n",
       "</tr>\n",
       "<tr>\n",
       "  <th>Avg Obs:</th>               <td>198.03</td>      <th>  Distribution:      </th>   <td>F(1,17321)</td>\n",
       "</tr>\n",
       "<tr>\n",
       "  <th>Min Obs:</th>               <td>4.0000</td>      <th>                     </th>        <td></td>     \n",
       "</tr>\n",
       "<tr>\n",
       "  <th>Max Obs:</th>               <td>215.00</td>      <th>  F-statistic (robust):</th>   <td>31.325</td>  \n",
       "</tr>\n",
       "<tr>\n",
       "  <th></th>                          <td></td>         <th>  P-value            </th>     <td>0.0000</td>  \n",
       "</tr>\n",
       "<tr>\n",
       "  <th>Time periods:</th>            <td>215</td>       <th>  Distribution:      </th>   <td>F(1,17321)</td>\n",
       "</tr>\n",
       "<tr>\n",
       "  <th>Avg Obs:</th>               <td>81.977</td>      <th>                     </th>        <td></td>     \n",
       "</tr>\n",
       "<tr>\n",
       "  <th>Min Obs:</th>               <td>73.000</td>      <th>                     </th>        <td></td>     \n",
       "</tr>\n",
       "<tr>\n",
       "  <th>Max Obs:</th>               <td>88.000</td>      <th>                     </th>        <td></td>     \n",
       "</tr>\n",
       "<tr>\n",
       "  <th></th>                          <td></td>         <th>                     </th>        <td></td>     \n",
       "</tr>\n",
       "</table>\n",
       "<table class=\"simpletable\">\n",
       "<caption>Parameter Estimates</caption>\n",
       "<tr>\n",
       "    <td></td>    <th>Parameter</th> <th>Std. Err.</th> <th>T-stat</th>  <th>P-value</th> <th>Lower CI</th> <th>Upper CI</th>\n",
       "</tr>\n",
       "<tr>\n",
       "  <th>const</th>  <td>0.0354</td>    <td>0.0046</td>   <td>7.6563</td>  <td>0.0000</td>   <td>0.0264</td>   <td>0.0445</td> \n",
       "</tr>\n",
       "<tr>\n",
       "  <th>ratio</th>  <td>-0.0031</td>   <td>0.0006</td>   <td>-5.5969</td> <td>0.0000</td>   <td>-0.0042</td>  <td>-0.0020</td>\n",
       "</tr>\n",
       "</table><br/><br/>F-test for Poolability: 44.371<br/>P-value: 0.0000<br/>Distribution: F(302,17321)<br/><br/>Included effects: Entity, Time<br/>id: 0x1fac1b81a90"
      ],
      "text/plain": [
       "                          PanelOLS Estimation Summary                           \n",
       "================================================================================\n",
       "Dep. Variable:                    ret   R-squared:                        0.0047\n",
       "Estimator:                   PanelOLS   R-squared (Between):             -2.9765\n",
       "No. Observations:               17625   R-squared (Within):               0.0040\n",
       "Date:                Sun, Jan 10 2021   R-squared (Overall):             -0.0180\n",
       "Time:                        16:50:18   Log-likelihood                  1.41e+04\n",
       "Cov. Estimator:             Clustered                                           \n",
       "                                        F-statistic:                      81.858\n",
       "Entities:                          89   P-value                           0.0000\n",
       "Avg Obs:                       198.03   Distribution:                 F(1,17321)\n",
       "Min Obs:                       4.0000                                           \n",
       "Max Obs:                       215.00   F-statistic (robust):             31.325\n",
       "                                        P-value                           0.0000\n",
       "Time periods:                     215   Distribution:                 F(1,17321)\n",
       "Avg Obs:                       81.977                                           \n",
       "Min Obs:                       73.000                                           \n",
       "Max Obs:                       88.000                                           \n",
       "                                                                                \n",
       "                             Parameter Estimates                              \n",
       "==============================================================================\n",
       "            Parameter  Std. Err.     T-stat    P-value    Lower CI    Upper CI\n",
       "------------------------------------------------------------------------------\n",
       "const          0.0354     0.0046     7.6563     0.0000      0.0264      0.0445\n",
       "ratio         -0.0031     0.0006    -5.5969     0.0000     -0.0042     -0.0020\n",
       "==============================================================================\n",
       "\n",
       "F-test for Poolability: 44.371\n",
       "P-value: 0.0000\n",
       "Distribution: F(302,17321)\n",
       "\n",
       "Included effects: Entity, Time\n",
       "PanelEffectsResults, id: 0x1fac1b81a90"
      ]
     },
     "execution_count": 141,
     "metadata": {},
     "output_type": "execute_result"
    }
   ],
   "source": [
    "result"
   ]
  },
  {
   "cell_type": "code",
   "execution_count": 142,
   "metadata": {},
   "outputs": [
    {
     "data": {
      "text/html": [
       "<table class=\"simpletable\">\n",
       "<caption>PanelOLS Estimation Summary</caption>\n",
       "<tr>\n",
       "  <th>Dep. Variable:</th>           <td>ret</td>       <th>  R-squared:         </th>     <td>0.0047</td>  \n",
       "</tr>\n",
       "<tr>\n",
       "  <th>Estimator:</th>            <td>PanelOLS</td>     <th>  R-squared (Between):</th>    <td>-2.9765</td> \n",
       "</tr>\n",
       "<tr>\n",
       "  <th>No. Observations:</th>       <td>17625</td>      <th>  R-squared (Within):</th>     <td>0.0040</td>  \n",
       "</tr>\n",
       "<tr>\n",
       "  <th>Date:</th>             <td>Sun, Jan 10 2021</td> <th>  R-squared (Overall):</th>    <td>-0.0180</td> \n",
       "</tr>\n",
       "<tr>\n",
       "  <th>Time:</th>                 <td>16:50:52</td>     <th>  Log-likelihood     </th>    <td>1.41e+04</td> \n",
       "</tr>\n",
       "<tr>\n",
       "  <th>Cov. Estimator:</th>    <td>Driscoll-Kraay</td>  <th>                     </th>        <td></td>     \n",
       "</tr>\n",
       "<tr>\n",
       "  <th></th>                          <td></td>         <th>  F-statistic:       </th>     <td>81.858</td>  \n",
       "</tr>\n",
       "<tr>\n",
       "  <th>Entities:</th>                <td>89</td>        <th>  P-value            </th>     <td>0.0000</td>  \n",
       "</tr>\n",
       "<tr>\n",
       "  <th>Avg Obs:</th>               <td>198.03</td>      <th>  Distribution:      </th>   <td>F(1,17321)</td>\n",
       "</tr>\n",
       "<tr>\n",
       "  <th>Min Obs:</th>               <td>4.0000</td>      <th>                     </th>        <td></td>     \n",
       "</tr>\n",
       "<tr>\n",
       "  <th>Max Obs:</th>               <td>215.00</td>      <th>  F-statistic (robust):</th>   <td>32.184</td>  \n",
       "</tr>\n",
       "<tr>\n",
       "  <th></th>                          <td></td>         <th>  P-value            </th>     <td>0.0000</td>  \n",
       "</tr>\n",
       "<tr>\n",
       "  <th>Time periods:</th>            <td>215</td>       <th>  Distribution:      </th>   <td>F(1,17321)</td>\n",
       "</tr>\n",
       "<tr>\n",
       "  <th>Avg Obs:</th>               <td>81.977</td>      <th>                     </th>        <td></td>     \n",
       "</tr>\n",
       "<tr>\n",
       "  <th>Min Obs:</th>               <td>73.000</td>      <th>                     </th>        <td></td>     \n",
       "</tr>\n",
       "<tr>\n",
       "  <th>Max Obs:</th>               <td>88.000</td>      <th>                     </th>        <td></td>     \n",
       "</tr>\n",
       "<tr>\n",
       "  <th></th>                          <td></td>         <th>                     </th>        <td></td>     \n",
       "</tr>\n",
       "</table>\n",
       "<table class=\"simpletable\">\n",
       "<caption>Parameter Estimates</caption>\n",
       "<tr>\n",
       "    <td></td>    <th>Parameter</th> <th>Std. Err.</th> <th>T-stat</th>  <th>P-value</th> <th>Lower CI</th> <th>Upper CI</th>\n",
       "</tr>\n",
       "<tr>\n",
       "  <th>const</th>  <td>0.0354</td>    <td>0.0046</td>   <td>7.6297</td>  <td>0.0000</td>   <td>0.0263</td>   <td>0.0445</td> \n",
       "</tr>\n",
       "<tr>\n",
       "  <th>ratio</th>  <td>-0.0031</td>   <td>0.0005</td>   <td>-5.6731</td> <td>0.0000</td>   <td>-0.0042</td>  <td>-0.0020</td>\n",
       "</tr>\n",
       "</table><br/><br/>F-test for Poolability: 44.371<br/>P-value: 0.0000<br/>Distribution: F(302,17321)<br/><br/>Included effects: Entity, Time<br/>id: 0x1fac0ee1df0"
      ],
      "text/plain": [
       "                          PanelOLS Estimation Summary                           \n",
       "================================================================================\n",
       "Dep. Variable:                    ret   R-squared:                        0.0047\n",
       "Estimator:                   PanelOLS   R-squared (Between):             -2.9765\n",
       "No. Observations:               17625   R-squared (Within):               0.0040\n",
       "Date:                Sun, Jan 10 2021   R-squared (Overall):             -0.0180\n",
       "Time:                        16:50:52   Log-likelihood                  1.41e+04\n",
       "Cov. Estimator:        Driscoll-Kraay                                           \n",
       "                                        F-statistic:                      81.858\n",
       "Entities:                          89   P-value                           0.0000\n",
       "Avg Obs:                       198.03   Distribution:                 F(1,17321)\n",
       "Min Obs:                       4.0000                                           \n",
       "Max Obs:                       215.00   F-statistic (robust):             32.184\n",
       "                                        P-value                           0.0000\n",
       "Time periods:                     215   Distribution:                 F(1,17321)\n",
       "Avg Obs:                       81.977                                           \n",
       "Min Obs:                       73.000                                           \n",
       "Max Obs:                       88.000                                           \n",
       "                                                                                \n",
       "                             Parameter Estimates                              \n",
       "==============================================================================\n",
       "            Parameter  Std. Err.     T-stat    P-value    Lower CI    Upper CI\n",
       "------------------------------------------------------------------------------\n",
       "const          0.0354     0.0046     7.6297     0.0000      0.0263      0.0445\n",
       "ratio         -0.0031     0.0005    -5.6731     0.0000     -0.0042     -0.0020\n",
       "==============================================================================\n",
       "\n",
       "F-test for Poolability: 44.371\n",
       "P-value: 0.0000\n",
       "Distribution: F(302,17321)\n",
       "\n",
       "Included effects: Entity, Time\n",
       "PanelEffectsResults, id: 0x1fac0ee1df0"
      ]
     },
     "execution_count": 142,
     "metadata": {},
     "output_type": "execute_result"
    }
   ],
   "source": [
    "mod.fit(cov_type=\"kernel\",cluster_entity=True,cluster_time=True)"
   ]
  },
  {
   "cell_type": "code",
   "execution_count": null,
   "metadata": {},
   "outputs": [],
   "source": []
  },
  {
   "cell_type": "code",
   "execution_count": 143,
   "metadata": {},
   "outputs": [],
   "source": [
    "mod = FamaMacBeth(depe,exog)\n",
    "result = mod.fit(cov_type='kernel', kernel='bartlett')"
   ]
  },
  {
   "cell_type": "code",
   "execution_count": 144,
   "metadata": {},
   "outputs": [
    {
     "data": {
      "text/html": [
       "<table class=\"simpletable\">\n",
       "<caption>FamaMacBeth Estimation Summary</caption>\n",
       "<tr>\n",
       "  <th>Dep. Variable:</th>              <td>ret</td>           <th>  R-squared:         </th>     <td>0.0003</td>  \n",
       "</tr>\n",
       "<tr>\n",
       "  <th>Estimator:</th>              <td>FamaMacBeth</td>       <th>  R-squared (Between):</th>    <td>-0.0003</td> \n",
       "</tr>\n",
       "<tr>\n",
       "  <th>No. Observations:</th>          <td>17625</td>          <th>  R-squared (Within):</th>     <td>0.0004</td>  \n",
       "</tr>\n",
       "<tr>\n",
       "  <th>Date:</th>                <td>Sun, Jan 10 2021</td>     <th>  R-squared (Overall):</th>    <td>0.0003</td>  \n",
       "</tr>\n",
       "<tr>\n",
       "  <th>Time:</th>                    <td>16:57:42</td>         <th>  Log-likelihood     </th>     <td>9047.6</td>  \n",
       "</tr>\n",
       "<tr>\n",
       "  <th>Cov. Estimator:</th>   <td>Fama-MacBeth Kernel Cov</td> <th>                     </th>        <td></td>     \n",
       "</tr>\n",
       "<tr>\n",
       "  <th></th>                             <td></td>             <th>  F-statistic:       </th>     <td>5.2483</td>  \n",
       "</tr>\n",
       "<tr>\n",
       "  <th>Entities:</th>                   <td>89</td>            <th>  P-value            </th>     <td>0.0220</td>  \n",
       "</tr>\n",
       "<tr>\n",
       "  <th>Avg Obs:</th>                  <td>198.03</td>          <th>  Distribution:      </th>   <td>F(1,17623)</td>\n",
       "</tr>\n",
       "<tr>\n",
       "  <th>Min Obs:</th>                  <td>4.0000</td>          <th>                     </th>        <td></td>     \n",
       "</tr>\n",
       "<tr>\n",
       "  <th>Max Obs:</th>                  <td>215.00</td>          <th>  F-statistic (robust):</th>   <td>0.9679</td>  \n",
       "</tr>\n",
       "<tr>\n",
       "  <th></th>                             <td></td>             <th>  P-value            </th>     <td>0.3252</td>  \n",
       "</tr>\n",
       "<tr>\n",
       "  <th>Time periods:</th>               <td>215</td>           <th>  Distribution:      </th>   <td>F(1,17623)</td>\n",
       "</tr>\n",
       "<tr>\n",
       "  <th>Avg Obs:</th>                  <td>81.977</td>          <th>                     </th>        <td></td>     \n",
       "</tr>\n",
       "<tr>\n",
       "  <th>Min Obs:</th>                  <td>73.000</td>          <th>                     </th>        <td></td>     \n",
       "</tr>\n",
       "<tr>\n",
       "  <th>Max Obs:</th>                  <td>88.000</td>          <th>                     </th>        <td></td>     \n",
       "</tr>\n",
       "<tr>\n",
       "  <th></th>                             <td></td>             <th>                     </th>        <td></td>     \n",
       "</tr>\n",
       "</table>\n",
       "<table class=\"simpletable\">\n",
       "<caption>Parameter Estimates</caption>\n",
       "<tr>\n",
       "    <td></td>    <th>Parameter</th> <th>Std. Err.</th> <th>T-stat</th>  <th>P-value</th> <th>Lower CI</th> <th>Upper CI</th>\n",
       "</tr>\n",
       "<tr>\n",
       "  <th>const</th>  <td>0.0111</td>    <td>0.0081</td>   <td>1.3615</td>  <td>0.1734</td>   <td>-0.0049</td>  <td>0.0270</td> \n",
       "</tr>\n",
       "<tr>\n",
       "  <th>ratio</th>  <td>-0.0002</td>   <td>0.0002</td>   <td>-0.9838</td> <td>0.3252</td>   <td>-0.0005</td>  <td>0.0002</td> \n",
       "</tr>\n",
       "</table><br/>id: 0x1fabdd3a4f0"
      ],
      "text/plain": [
       "                            FamaMacBeth Estimation Summary                           \n",
       "=====================================================================================\n",
       "Dep. Variable:                         ret   R-squared:                        0.0003\n",
       "Estimator:                     FamaMacBeth   R-squared (Between):             -0.0003\n",
       "No. Observations:                    17625   R-squared (Within):               0.0004\n",
       "Date:                     Sun, Jan 10 2021   R-squared (Overall):              0.0003\n",
       "Time:                             16:57:42   Log-likelihood                    9047.6\n",
       "Cov. Estimator:    Fama-MacBeth Kernel Cov                                           \n",
       "                                             F-statistic:                      5.2483\n",
       "Entities:                               89   P-value                           0.0220\n",
       "Avg Obs:                            198.03   Distribution:                 F(1,17623)\n",
       "Min Obs:                            4.0000                                           \n",
       "Max Obs:                            215.00   F-statistic (robust):             0.9679\n",
       "                                             P-value                           0.3252\n",
       "Time periods:                          215   Distribution:                 F(1,17623)\n",
       "Avg Obs:                            81.977                                           \n",
       "Min Obs:                            73.000                                           \n",
       "Max Obs:                            88.000                                           \n",
       "                                                                                     \n",
       "                             Parameter Estimates                              \n",
       "==============================================================================\n",
       "            Parameter  Std. Err.     T-stat    P-value    Lower CI    Upper CI\n",
       "------------------------------------------------------------------------------\n",
       "const          0.0111     0.0081     1.3615     0.1734     -0.0049      0.0270\n",
       "ratio         -0.0002     0.0002    -0.9838     0.3252     -0.0005      0.0002\n",
       "==============================================================================\n",
       "FamaMacBethResults, id: 0x1fabdd3a4f0"
      ]
     },
     "execution_count": 144,
     "metadata": {},
     "output_type": "execute_result"
    }
   ],
   "source": [
    "result"
   ]
  },
  {
   "cell_type": "code",
   "execution_count": null,
   "metadata": {},
   "outputs": [],
   "source": []
  },
  {
   "cell_type": "code",
   "execution_count": 145,
   "metadata": {},
   "outputs": [
    {
     "data": {
      "text/html": [
       "<table class=\"simpletable\">\n",
       "<caption>PanelOLS Estimation Summary</caption>\n",
       "<tr>\n",
       "  <th>Dep. Variable:</th>           <td>ret</td>       <th>  R-squared:         </th>     <td>0.0005</td>  \n",
       "</tr>\n",
       "<tr>\n",
       "  <th>Estimator:</th>            <td>PanelOLS</td>     <th>  R-squared (Between):</th>    <td>-0.0392</td> \n",
       "</tr>\n",
       "<tr>\n",
       "  <th>No. Observations:</th>       <td>17625</td>      <th>  R-squared (Within):</th>     <td>0.0010</td>  \n",
       "</tr>\n",
       "<tr>\n",
       "  <th>Date:</th>             <td>Sun, Jan 10 2021</td> <th>  R-squared (Overall):</th>    <td>0.0005</td>  \n",
       "</tr>\n",
       "<tr>\n",
       "  <th>Time:</th>                 <td>16:58:05</td>     <th>  Log-likelihood     </th>     <td>9049.2</td>  \n",
       "</tr>\n",
       "<tr>\n",
       "  <th>Cov. Estimator:</th>       <td>Clustered</td>    <th>                     </th>        <td></td>     \n",
       "</tr>\n",
       "<tr>\n",
       "  <th></th>                          <td></td>         <th>  F-statistic:       </th>     <td>8.4837</td>  \n",
       "</tr>\n",
       "<tr>\n",
       "  <th>Entities:</th>                <td>89</td>        <th>  P-value            </th>     <td>0.0036</td>  \n",
       "</tr>\n",
       "<tr>\n",
       "  <th>Avg Obs:</th>               <td>198.03</td>      <th>  Distribution:      </th>   <td>F(1,17623)</td>\n",
       "</tr>\n",
       "<tr>\n",
       "  <th>Min Obs:</th>               <td>4.0000</td>      <th>                     </th>        <td></td>     \n",
       "</tr>\n",
       "<tr>\n",
       "  <th>Max Obs:</th>               <td>215.00</td>      <th>  F-statistic (robust):</th>   <td>4.9043</td>  \n",
       "</tr>\n",
       "<tr>\n",
       "  <th></th>                          <td></td>         <th>  P-value            </th>     <td>0.0268</td>  \n",
       "</tr>\n",
       "<tr>\n",
       "  <th>Time periods:</th>            <td>215</td>       <th>  Distribution:      </th>   <td>F(1,17623)</td>\n",
       "</tr>\n",
       "<tr>\n",
       "  <th>Avg Obs:</th>               <td>81.977</td>      <th>                     </th>        <td></td>     \n",
       "</tr>\n",
       "<tr>\n",
       "  <th>Min Obs:</th>               <td>73.000</td>      <th>                     </th>        <td></td>     \n",
       "</tr>\n",
       "<tr>\n",
       "  <th>Max Obs:</th>               <td>88.000</td>      <th>                     </th>        <td></td>     \n",
       "</tr>\n",
       "<tr>\n",
       "  <th></th>                          <td></td>         <th>                     </th>        <td></td>     \n",
       "</tr>\n",
       "</table>\n",
       "<table class=\"simpletable\">\n",
       "<caption>Parameter Estimates</caption>\n",
       "<tr>\n",
       "    <td></td>    <th>Parameter</th> <th>Std. Err.</th> <th>T-stat</th>  <th>P-value</th> <th>Lower CI</th>  <th>Upper CI</th> \n",
       "</tr>\n",
       "<tr>\n",
       "  <th>const</th>  <td>0.0127</td>    <td>0.0064</td>   <td>1.9824</td>  <td>0.0474</td>   <td>0.0001</td>    <td>0.0253</td>  \n",
       "</tr>\n",
       "<tr>\n",
       "  <th>ratio</th>  <td>-0.0004</td>   <td>0.0002</td>   <td>-2.2146</td> <td>0.0268</td>   <td>-0.0008</td> <td>-4.977e-05</td>\n",
       "</tr>\n",
       "</table><br/><br/><br/>id: 0x1fac1bad460"
      ],
      "text/plain": [
       "                          PanelOLS Estimation Summary                           \n",
       "================================================================================\n",
       "Dep. Variable:                    ret   R-squared:                        0.0005\n",
       "Estimator:                   PanelOLS   R-squared (Between):             -0.0392\n",
       "No. Observations:               17625   R-squared (Within):               0.0010\n",
       "Date:                Sun, Jan 10 2021   R-squared (Overall):              0.0005\n",
       "Time:                        16:58:05   Log-likelihood                    9049.2\n",
       "Cov. Estimator:             Clustered                                           \n",
       "                                        F-statistic:                      8.4837\n",
       "Entities:                          89   P-value                           0.0036\n",
       "Avg Obs:                       198.03   Distribution:                 F(1,17623)\n",
       "Min Obs:                       4.0000                                           \n",
       "Max Obs:                       215.00   F-statistic (robust):             4.9043\n",
       "                                        P-value                           0.0268\n",
       "Time periods:                     215   Distribution:                 F(1,17623)\n",
       "Avg Obs:                       81.977                                           \n",
       "Min Obs:                       73.000                                           \n",
       "Max Obs:                       88.000                                           \n",
       "                                                                                \n",
       "                             Parameter Estimates                              \n",
       "==============================================================================\n",
       "            Parameter  Std. Err.     T-stat    P-value    Lower CI    Upper CI\n",
       "------------------------------------------------------------------------------\n",
       "const          0.0127     0.0064     1.9824     0.0474      0.0001      0.0253\n",
       "ratio         -0.0004     0.0002    -2.2146     0.0268     -0.0008  -4.977e-05\n",
       "==============================================================================\n",
       "\n",
       "\n",
       "PanelEffectsResults, id: 0x1fac1bad460"
      ]
     },
     "execution_count": 145,
     "metadata": {},
     "output_type": "execute_result"
    }
   ],
   "source": [
    "mod = PanelOLS(depe,exog,entity_effects=False,time_effects=False)\n",
    "mod.fit(cov_type=\"clustered\",cluster_entity=False,cluster_time=True)"
   ]
  },
  {
   "cell_type": "code",
   "execution_count": null,
   "metadata": {},
   "outputs": [],
   "source": []
  },
  {
   "cell_type": "code",
   "execution_count": null,
   "metadata": {},
   "outputs": [],
   "source": []
  },
  {
   "cell_type": "code",
   "execution_count": null,
   "metadata": {},
   "outputs": [],
   "source": []
  },
  {
   "cell_type": "code",
   "execution_count": null,
   "metadata": {},
   "outputs": [],
   "source": [
    "### Fama Macbeth"
   ]
  },
  {
   "cell_type": "code",
   "execution_count": null,
   "metadata": {},
   "outputs": [],
   "source": []
  },
  {
   "cell_type": "code",
   "execution_count": null,
   "metadata": {},
   "outputs": [],
   "source": []
  },
  {
   "cell_type": "code",
   "execution_count": null,
   "metadata": {},
   "outputs": [],
   "source": []
  },
  {
   "cell_type": "code",
   "execution_count": null,
   "metadata": {},
   "outputs": [],
   "source": []
  },
  {
   "cell_type": "code",
   "execution_count": null,
   "metadata": {},
   "outputs": [],
   "source": []
  },
  {
   "cell_type": "code",
   "execution_count": null,
   "metadata": {},
   "outputs": [],
   "source": []
  },
  {
   "cell_type": "code",
   "execution_count": null,
   "metadata": {},
   "outputs": [],
   "source": []
  },
  {
   "cell_type": "code",
   "execution_count": null,
   "metadata": {},
   "outputs": [],
   "source": []
  },
  {
   "cell_type": "code",
   "execution_count": null,
   "metadata": {},
   "outputs": [],
   "source": []
  },
  {
   "cell_type": "code",
   "execution_count": null,
   "metadata": {},
   "outputs": [],
   "source": []
  },
  {
   "cell_type": "code",
   "execution_count": null,
   "metadata": {},
   "outputs": [],
   "source": []
  },
  {
   "cell_type": "code",
   "execution_count": null,
   "metadata": {},
   "outputs": [],
   "source": []
  },
  {
   "cell_type": "code",
   "execution_count": null,
   "metadata": {},
   "outputs": [],
   "source": []
  },
  {
   "cell_type": "code",
   "execution_count": null,
   "metadata": {},
   "outputs": [],
   "source": []
  },
  {
   "cell_type": "code",
   "execution_count": null,
   "metadata": {},
   "outputs": [],
   "source": []
  },
  {
   "cell_type": "code",
   "execution_count": null,
   "metadata": {},
   "outputs": [],
   "source": []
  },
  {
   "cell_type": "code",
   "execution_count": null,
   "metadata": {},
   "outputs": [],
   "source": []
  },
  {
   "cell_type": "code",
   "execution_count": null,
   "metadata": {},
   "outputs": [],
   "source": []
  },
  {
   "cell_type": "code",
   "execution_count": null,
   "metadata": {},
   "outputs": [],
   "source": []
  }
 ],
 "metadata": {
  "kernelspec": {
   "display_name": "Python 3",
   "language": "python",
   "name": "python3"
  },
  "language_info": {
   "codemirror_mode": {
    "name": "ipython",
    "version": 3
   },
   "file_extension": ".py",
   "mimetype": "text/x-python",
   "name": "python",
   "nbconvert_exporter": "python",
   "pygments_lexer": "ipython3",
   "version": "3.8.5"
  }
 },
 "nbformat": 4,
 "nbformat_minor": 4
}
